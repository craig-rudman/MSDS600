{
 "cells": [
  {
   "cell_type": "markdown",
   "id": "165166dd",
   "metadata": {},
   "source": [
    "# DS Automation Assignment"
   ]
  },
  {
   "cell_type": "markdown",
   "id": "c195af74",
   "metadata": {},
   "source": [
    "Using our prepared churn data from week 2:\n",
    "- use pycaret to find an ML algorithm that performs best on the data\n",
    "    - Choose a metric you think is best to use for finding the best model; by default, it is accuracy but it could be AUC, precision, recall, etc. The week 3 FTE has some information on these different metrics.\n",
    "- save the model to disk\n",
    "- create a Python script/file/module with a function that takes a pandas dataframe as an input and returns the probability of churn for each row in the dataframe\n",
    "    - your Python file/function should print out the predictions for new data (new_churn_data.csv)\n",
    "    - the true values for the new data are [1, 0, 0, 1, 0] if you're interested\n",
    "- test your Python module and function with the new data, new_churn_data.csv\n",
    "- write a short summary of the process and results at the end of this notebook\n",
    "- upload this Jupyter Notebook and Python file to a Github repository, and turn in a link to the repository in the week 5 assignment dropbox\n",
    "\n",
    "*Optional* challenges:\n",
    "- return the probability of churn for each new prediction, and the percentile where that prediction is in the distribution of probability predictions from the training dataset (e.g. a high probability of churn like 0.78 might be at the 90th percentile)\n",
    "- use other autoML packages, such as TPOT, H2O, MLBox, etc, and compare performance and features with pycaret\n",
    "- create a class in your Python module to hold the functions that you created\n",
    "- accept user input to specify a file using a tool such as Python's `input()` function, the `click` package for command-line arguments, or a GUI\n",
    "- Use the unmodified churn data (new_unmodified_churn_data.csv) in your Python script. This will require adding the same preprocessing steps from week 2 since this data is like the original unmodified dataset from week 1."
   ]
  },
  {
   "cell_type": "code",
   "execution_count": 1,
   "id": "476ed965",
   "metadata": {},
   "outputs": [],
   "source": [
    "# import libraries\n",
    "import pandas as pd\n",
    "import os as os\n",
    "from pycaret.classification import setup, compare_models, predict_model, save_model, load_model\n"
   ]
  },
  {
   "cell_type": "code",
   "execution_count": 2,
   "id": "92249e49",
   "metadata": {},
   "outputs": [
    {
     "name": "stdout",
     "output_type": "stream",
     "text": [
      "<class 'pandas.core.frame.DataFrame'>\n",
      "Index: 7043 entries, 7590-VHVEG to 3186-AJIEK\n",
      "Data columns (total 8 columns):\n",
      " #   Column             Non-Null Count  Dtype  \n",
      "---  ------             --------------  -----  \n",
      " 0   tenure             7043 non-null   float64\n",
      " 1   PhoneService       7043 non-null   int64  \n",
      " 2   Contract           7043 non-null   int64  \n",
      " 3   PaymentMethod      7043 non-null   int64  \n",
      " 4   MonthlyCharges     7043 non-null   float64\n",
      " 5   TotalCharges       7043 non-null   float64\n",
      " 6   Churn              7043 non-null   int64  \n",
      " 7   charge_per_tenure  7043 non-null   float64\n",
      "dtypes: float64(4), int64(4)\n",
      "memory usage: 495.2+ KB\n"
     ]
    }
   ],
   "source": [
    "# load data\n",
    "df = pd.read_csv('./data/prepared_churn_data.csv', index_col='customerID')\n",
    "df.info()"
   ]
  },
  {
   "cell_type": "code",
   "execution_count": 3,
   "id": "6916d463",
   "metadata": {},
   "outputs": [
    {
     "data": {
      "text/html": [
       "<style type=\"text/css\">\n",
       "</style>\n",
       "<table id=\"T_0f918\">\n",
       "  <thead>\n",
       "    <tr>\n",
       "      <th class=\"blank level0\" >&nbsp;</th>\n",
       "      <th id=\"T_0f918_level0_col0\" class=\"col_heading level0 col0\" >Description</th>\n",
       "      <th id=\"T_0f918_level0_col1\" class=\"col_heading level0 col1\" >Value</th>\n",
       "    </tr>\n",
       "  </thead>\n",
       "  <tbody>\n",
       "    <tr>\n",
       "      <th id=\"T_0f918_level0_row0\" class=\"row_heading level0 row0\" >0</th>\n",
       "      <td id=\"T_0f918_row0_col0\" class=\"data row0 col0\" >Session id</td>\n",
       "      <td id=\"T_0f918_row0_col1\" class=\"data row0 col1\" >2812</td>\n",
       "    </tr>\n",
       "    <tr>\n",
       "      <th id=\"T_0f918_level0_row1\" class=\"row_heading level0 row1\" >1</th>\n",
       "      <td id=\"T_0f918_row1_col0\" class=\"data row1 col0\" >Target</td>\n",
       "      <td id=\"T_0f918_row1_col1\" class=\"data row1 col1\" >Churn</td>\n",
       "    </tr>\n",
       "    <tr>\n",
       "      <th id=\"T_0f918_level0_row2\" class=\"row_heading level0 row2\" >2</th>\n",
       "      <td id=\"T_0f918_row2_col0\" class=\"data row2 col0\" >Target type</td>\n",
       "      <td id=\"T_0f918_row2_col1\" class=\"data row2 col1\" >Binary</td>\n",
       "    </tr>\n",
       "    <tr>\n",
       "      <th id=\"T_0f918_level0_row3\" class=\"row_heading level0 row3\" >3</th>\n",
       "      <td id=\"T_0f918_row3_col0\" class=\"data row3 col0\" >Original data shape</td>\n",
       "      <td id=\"T_0f918_row3_col1\" class=\"data row3 col1\" >(7043, 8)</td>\n",
       "    </tr>\n",
       "    <tr>\n",
       "      <th id=\"T_0f918_level0_row4\" class=\"row_heading level0 row4\" >4</th>\n",
       "      <td id=\"T_0f918_row4_col0\" class=\"data row4 col0\" >Transformed data shape</td>\n",
       "      <td id=\"T_0f918_row4_col1\" class=\"data row4 col1\" >(7043, 8)</td>\n",
       "    </tr>\n",
       "    <tr>\n",
       "      <th id=\"T_0f918_level0_row5\" class=\"row_heading level0 row5\" >5</th>\n",
       "      <td id=\"T_0f918_row5_col0\" class=\"data row5 col0\" >Transformed train set shape</td>\n",
       "      <td id=\"T_0f918_row5_col1\" class=\"data row5 col1\" >(4930, 8)</td>\n",
       "    </tr>\n",
       "    <tr>\n",
       "      <th id=\"T_0f918_level0_row6\" class=\"row_heading level0 row6\" >6</th>\n",
       "      <td id=\"T_0f918_row6_col0\" class=\"data row6 col0\" >Transformed test set shape</td>\n",
       "      <td id=\"T_0f918_row6_col1\" class=\"data row6 col1\" >(2113, 8)</td>\n",
       "    </tr>\n",
       "    <tr>\n",
       "      <th id=\"T_0f918_level0_row7\" class=\"row_heading level0 row7\" >7</th>\n",
       "      <td id=\"T_0f918_row7_col0\" class=\"data row7 col0\" >Ignore features</td>\n",
       "      <td id=\"T_0f918_row7_col1\" class=\"data row7 col1\" >1</td>\n",
       "    </tr>\n",
       "    <tr>\n",
       "      <th id=\"T_0f918_level0_row8\" class=\"row_heading level0 row8\" >8</th>\n",
       "      <td id=\"T_0f918_row8_col0\" class=\"data row8 col0\" >Numeric features</td>\n",
       "      <td id=\"T_0f918_row8_col1\" class=\"data row8 col1\" >7</td>\n",
       "    </tr>\n",
       "  </tbody>\n",
       "</table>\n"
      ],
      "text/plain": [
       "<pandas.io.formats.style.Styler at 0x328b03d00>"
      ]
     },
     "metadata": {},
     "output_type": "display_data"
    }
   ],
   "source": [
    "# Setup pycaret, ignore customerID\n",
    "automl = setup(df, target='Churn', preprocess=False, ignore_features=['customerID'])"
   ]
  },
  {
   "cell_type": "code",
   "execution_count": 4,
   "id": "9409e6b4",
   "metadata": {},
   "outputs": [
    {
     "data": {
      "text/html": [],
      "text/plain": [
       "<IPython.core.display.HTML object>"
      ]
     },
     "metadata": {},
     "output_type": "display_data"
    },
    {
     "data": {
      "text/html": [
       "<style type=\"text/css\">\n",
       "#T_e540a th {\n",
       "  text-align: left;\n",
       "}\n",
       "#T_e540a_row0_col0, #T_e540a_row0_col2, #T_e540a_row0_col3, #T_e540a_row0_col4, #T_e540a_row0_col5, #T_e540a_row1_col0, #T_e540a_row1_col1, #T_e540a_row1_col3, #T_e540a_row1_col4, #T_e540a_row1_col5, #T_e540a_row1_col6, #T_e540a_row1_col7, #T_e540a_row2_col0, #T_e540a_row2_col1, #T_e540a_row2_col2, #T_e540a_row2_col3, #T_e540a_row2_col4, #T_e540a_row2_col5, #T_e540a_row2_col6, #T_e540a_row2_col7, #T_e540a_row3_col0, #T_e540a_row3_col1, #T_e540a_row3_col2, #T_e540a_row3_col3, #T_e540a_row3_col5, #T_e540a_row3_col6, #T_e540a_row3_col7, #T_e540a_row4_col0, #T_e540a_row4_col1, #T_e540a_row4_col2, #T_e540a_row4_col3, #T_e540a_row4_col4, #T_e540a_row4_col5, #T_e540a_row4_col6, #T_e540a_row4_col7, #T_e540a_row5_col0, #T_e540a_row5_col1, #T_e540a_row5_col2, #T_e540a_row5_col3, #T_e540a_row5_col4, #T_e540a_row5_col5, #T_e540a_row5_col6, #T_e540a_row5_col7, #T_e540a_row6_col0, #T_e540a_row6_col1, #T_e540a_row6_col2, #T_e540a_row6_col3, #T_e540a_row6_col4, #T_e540a_row6_col5, #T_e540a_row6_col6, #T_e540a_row6_col7, #T_e540a_row7_col0, #T_e540a_row7_col1, #T_e540a_row7_col2, #T_e540a_row7_col3, #T_e540a_row7_col4, #T_e540a_row7_col5, #T_e540a_row7_col6, #T_e540a_row7_col7, #T_e540a_row8_col0, #T_e540a_row8_col1, #T_e540a_row8_col2, #T_e540a_row8_col3, #T_e540a_row8_col4, #T_e540a_row8_col5, #T_e540a_row8_col6, #T_e540a_row8_col7, #T_e540a_row9_col0, #T_e540a_row9_col1, #T_e540a_row9_col2, #T_e540a_row9_col4, #T_e540a_row9_col6, #T_e540a_row9_col7, #T_e540a_row10_col0, #T_e540a_row10_col1, #T_e540a_row10_col2, #T_e540a_row10_col3, #T_e540a_row10_col4, #T_e540a_row10_col5, #T_e540a_row10_col6, #T_e540a_row10_col7, #T_e540a_row11_col0, #T_e540a_row11_col1, #T_e540a_row11_col2, #T_e540a_row11_col3, #T_e540a_row11_col4, #T_e540a_row11_col5, #T_e540a_row11_col6, #T_e540a_row11_col7, #T_e540a_row12_col0, #T_e540a_row12_col1, #T_e540a_row12_col2, #T_e540a_row12_col3, #T_e540a_row12_col4, #T_e540a_row12_col5, #T_e540a_row12_col6, #T_e540a_row12_col7, #T_e540a_row13_col0, #T_e540a_row13_col1, #T_e540a_row13_col2, #T_e540a_row13_col3, #T_e540a_row13_col4, #T_e540a_row13_col5, #T_e540a_row13_col6, #T_e540a_row13_col7 {\n",
       "  text-align: left;\n",
       "}\n",
       "#T_e540a_row0_col1, #T_e540a_row0_col6, #T_e540a_row0_col7, #T_e540a_row1_col2, #T_e540a_row3_col4, #T_e540a_row9_col3, #T_e540a_row9_col5 {\n",
       "  text-align: left;\n",
       "  background-color: yellow;\n",
       "}\n",
       "#T_e540a_row0_col8, #T_e540a_row1_col8, #T_e540a_row2_col8, #T_e540a_row3_col8, #T_e540a_row4_col8, #T_e540a_row5_col8, #T_e540a_row6_col8, #T_e540a_row7_col8, #T_e540a_row8_col8, #T_e540a_row9_col8, #T_e540a_row10_col8, #T_e540a_row12_col8, #T_e540a_row13_col8 {\n",
       "  text-align: left;\n",
       "  background-color: lightgrey;\n",
       "}\n",
       "#T_e540a_row11_col8 {\n",
       "  text-align: left;\n",
       "  background-color: yellow;\n",
       "  background-color: lightgrey;\n",
       "}\n",
       "</style>\n",
       "<table id=\"T_e540a\">\n",
       "  <thead>\n",
       "    <tr>\n",
       "      <th class=\"blank level0\" >&nbsp;</th>\n",
       "      <th id=\"T_e540a_level0_col0\" class=\"col_heading level0 col0\" >Model</th>\n",
       "      <th id=\"T_e540a_level0_col1\" class=\"col_heading level0 col1\" >Accuracy</th>\n",
       "      <th id=\"T_e540a_level0_col2\" class=\"col_heading level0 col2\" >AUC</th>\n",
       "      <th id=\"T_e540a_level0_col3\" class=\"col_heading level0 col3\" >Recall</th>\n",
       "      <th id=\"T_e540a_level0_col4\" class=\"col_heading level0 col4\" >Prec.</th>\n",
       "      <th id=\"T_e540a_level0_col5\" class=\"col_heading level0 col5\" >F1</th>\n",
       "      <th id=\"T_e540a_level0_col6\" class=\"col_heading level0 col6\" >Kappa</th>\n",
       "      <th id=\"T_e540a_level0_col7\" class=\"col_heading level0 col7\" >MCC</th>\n",
       "      <th id=\"T_e540a_level0_col8\" class=\"col_heading level0 col8\" >TT (Sec)</th>\n",
       "    </tr>\n",
       "  </thead>\n",
       "  <tbody>\n",
       "    <tr>\n",
       "      <th id=\"T_e540a_level0_row0\" class=\"row_heading level0 row0\" >lr</th>\n",
       "      <td id=\"T_e540a_row0_col0\" class=\"data row0 col0\" >Logistic Regression</td>\n",
       "      <td id=\"T_e540a_row0_col1\" class=\"data row0 col1\" >0.7961</td>\n",
       "      <td id=\"T_e540a_row0_col2\" class=\"data row0 col2\" >0.8404</td>\n",
       "      <td id=\"T_e540a_row0_col3\" class=\"data row0 col3\" >0.5344</td>\n",
       "      <td id=\"T_e540a_row0_col4\" class=\"data row0 col4\" >0.6391</td>\n",
       "      <td id=\"T_e540a_row0_col5\" class=\"data row0 col5\" >0.5812</td>\n",
       "      <td id=\"T_e540a_row0_col6\" class=\"data row0 col6\" >0.4481</td>\n",
       "      <td id=\"T_e540a_row0_col7\" class=\"data row0 col7\" >0.4517</td>\n",
       "      <td id=\"T_e540a_row0_col8\" class=\"data row0 col8\" >0.2540</td>\n",
       "    </tr>\n",
       "    <tr>\n",
       "      <th id=\"T_e540a_level0_row1\" class=\"row_heading level0 row1\" >gbc</th>\n",
       "      <td id=\"T_e540a_row1_col0\" class=\"data row1 col0\" >Gradient Boosting Classifier</td>\n",
       "      <td id=\"T_e540a_row1_col1\" class=\"data row1 col1\" >0.7959</td>\n",
       "      <td id=\"T_e540a_row1_col2\" class=\"data row1 col2\" >0.8422</td>\n",
       "      <td id=\"T_e540a_row1_col3\" class=\"data row1 col3\" >0.5160</td>\n",
       "      <td id=\"T_e540a_row1_col4\" class=\"data row1 col4\" >0.6448</td>\n",
       "      <td id=\"T_e540a_row1_col5\" class=\"data row1 col5\" >0.5718</td>\n",
       "      <td id=\"T_e540a_row1_col6\" class=\"data row1 col6\" >0.4404</td>\n",
       "      <td id=\"T_e540a_row1_col7\" class=\"data row1 col7\" >0.4459</td>\n",
       "      <td id=\"T_e540a_row1_col8\" class=\"data row1 col8\" >0.0540</td>\n",
       "    </tr>\n",
       "    <tr>\n",
       "      <th id=\"T_e540a_level0_row2\" class=\"row_heading level0 row2\" >lda</th>\n",
       "      <td id=\"T_e540a_row2_col0\" class=\"data row2 col0\" >Linear Discriminant Analysis</td>\n",
       "      <td id=\"T_e540a_row2_col1\" class=\"data row2 col1\" >0.7939</td>\n",
       "      <td id=\"T_e540a_row2_col2\" class=\"data row2 col2\" >0.8268</td>\n",
       "      <td id=\"T_e540a_row2_col3\" class=\"data row2 col3\" >0.5160</td>\n",
       "      <td id=\"T_e540a_row2_col4\" class=\"data row2 col4\" >0.6381</td>\n",
       "      <td id=\"T_e540a_row2_col5\" class=\"data row2 col5\" >0.5695</td>\n",
       "      <td id=\"T_e540a_row2_col6\" class=\"data row2 col6\" >0.4363</td>\n",
       "      <td id=\"T_e540a_row2_col7\" class=\"data row2 col7\" >0.4411</td>\n",
       "      <td id=\"T_e540a_row2_col8\" class=\"data row2 col8\" >0.0040</td>\n",
       "    </tr>\n",
       "    <tr>\n",
       "      <th id=\"T_e540a_level0_row3\" class=\"row_heading level0 row3\" >ridge</th>\n",
       "      <td id=\"T_e540a_row3_col0\" class=\"data row3 col0\" >Ridge Classifier</td>\n",
       "      <td id=\"T_e540a_row3_col1\" class=\"data row3 col1\" >0.7931</td>\n",
       "      <td id=\"T_e540a_row3_col2\" class=\"data row3 col2\" >0.8268</td>\n",
       "      <td id=\"T_e540a_row3_col3\" class=\"data row3 col3\" >0.4548</td>\n",
       "      <td id=\"T_e540a_row3_col4\" class=\"data row3 col4\" >0.6600</td>\n",
       "      <td id=\"T_e540a_row3_col5\" class=\"data row3 col5\" >0.5372</td>\n",
       "      <td id=\"T_e540a_row3_col6\" class=\"data row3 col6\" >0.4101</td>\n",
       "      <td id=\"T_e540a_row3_col7\" class=\"data row3 col7\" >0.4225</td>\n",
       "      <td id=\"T_e540a_row3_col8\" class=\"data row3 col8\" >0.0040</td>\n",
       "    </tr>\n",
       "    <tr>\n",
       "      <th id=\"T_e540a_level0_row4\" class=\"row_heading level0 row4\" >ada</th>\n",
       "      <td id=\"T_e540a_row4_col0\" class=\"data row4 col0\" >Ada Boost Classifier</td>\n",
       "      <td id=\"T_e540a_row4_col1\" class=\"data row4 col1\" >0.7925</td>\n",
       "      <td id=\"T_e540a_row4_col2\" class=\"data row4 col2\" >0.8402</td>\n",
       "      <td id=\"T_e540a_row4_col3\" class=\"data row4 col3\" >0.5115</td>\n",
       "      <td id=\"T_e540a_row4_col4\" class=\"data row4 col4\" >0.6372</td>\n",
       "      <td id=\"T_e540a_row4_col5\" class=\"data row4 col5\" >0.5659</td>\n",
       "      <td id=\"T_e540a_row4_col6\" class=\"data row4 col6\" >0.4320</td>\n",
       "      <td id=\"T_e540a_row4_col7\" class=\"data row4 col7\" >0.4374</td>\n",
       "      <td id=\"T_e540a_row4_col8\" class=\"data row4 col8\" >0.0180</td>\n",
       "    </tr>\n",
       "    <tr>\n",
       "      <th id=\"T_e540a_level0_row5\" class=\"row_heading level0 row5\" >lightgbm</th>\n",
       "      <td id=\"T_e540a_row5_col0\" class=\"data row5 col0\" >Light Gradient Boosting Machine</td>\n",
       "      <td id=\"T_e540a_row5_col1\" class=\"data row5 col1\" >0.7858</td>\n",
       "      <td id=\"T_e540a_row5_col2\" class=\"data row5 col2\" >0.8329</td>\n",
       "      <td id=\"T_e540a_row5_col3\" class=\"data row5 col3\" >0.5298</td>\n",
       "      <td id=\"T_e540a_row5_col4\" class=\"data row5 col4\" >0.6113</td>\n",
       "      <td id=\"T_e540a_row5_col5\" class=\"data row5 col5\" >0.5669</td>\n",
       "      <td id=\"T_e540a_row5_col6\" class=\"data row5 col6\" >0.4258</td>\n",
       "      <td id=\"T_e540a_row5_col7\" class=\"data row5 col7\" >0.4281</td>\n",
       "      <td id=\"T_e540a_row5_col8\" class=\"data row5 col8\" >0.3150</td>\n",
       "    </tr>\n",
       "    <tr>\n",
       "      <th id=\"T_e540a_level0_row6\" class=\"row_heading level0 row6\" >rf</th>\n",
       "      <td id=\"T_e540a_row6_col0\" class=\"data row6 col0\" >Random Forest Classifier</td>\n",
       "      <td id=\"T_e540a_row6_col1\" class=\"data row6 col1\" >0.7805</td>\n",
       "      <td id=\"T_e540a_row6_col2\" class=\"data row6 col2\" >0.8099</td>\n",
       "      <td id=\"T_e540a_row6_col3\" class=\"data row6 col3\" >0.4985</td>\n",
       "      <td id=\"T_e540a_row6_col4\" class=\"data row6 col4\" >0.6055</td>\n",
       "      <td id=\"T_e540a_row6_col5\" class=\"data row6 col5\" >0.5462</td>\n",
       "      <td id=\"T_e540a_row6_col6\" class=\"data row6 col6\" >0.4034</td>\n",
       "      <td id=\"T_e540a_row6_col7\" class=\"data row6 col7\" >0.4070</td>\n",
       "      <td id=\"T_e540a_row6_col8\" class=\"data row6 col8\" >0.0490</td>\n",
       "    </tr>\n",
       "    <tr>\n",
       "      <th id=\"T_e540a_level0_row7\" class=\"row_heading level0 row7\" >et</th>\n",
       "      <td id=\"T_e540a_row7_col0\" class=\"data row7 col0\" >Extra Trees Classifier</td>\n",
       "      <td id=\"T_e540a_row7_col1\" class=\"data row7 col1\" >0.7675</td>\n",
       "      <td id=\"T_e540a_row7_col2\" class=\"data row7 col2\" >0.7827</td>\n",
       "      <td id=\"T_e540a_row7_col3\" class=\"data row7 col3\" >0.4916</td>\n",
       "      <td id=\"T_e540a_row7_col4\" class=\"data row7 col4\" >0.5722</td>\n",
       "      <td id=\"T_e540a_row7_col5\" class=\"data row7 col5\" >0.5284</td>\n",
       "      <td id=\"T_e540a_row7_col6\" class=\"data row7 col6\" >0.3754</td>\n",
       "      <td id=\"T_e540a_row7_col7\" class=\"data row7 col7\" >0.3776</td>\n",
       "      <td id=\"T_e540a_row7_col8\" class=\"data row7 col8\" >0.0320</td>\n",
       "    </tr>\n",
       "    <tr>\n",
       "      <th id=\"T_e540a_level0_row8\" class=\"row_heading level0 row8\" >knn</th>\n",
       "      <td id=\"T_e540a_row8_col0\" class=\"data row8 col0\" >K Neighbors Classifier</td>\n",
       "      <td id=\"T_e540a_row8_col1\" class=\"data row8 col1\" >0.7629</td>\n",
       "      <td id=\"T_e540a_row8_col2\" class=\"data row8 col2\" >0.7433</td>\n",
       "      <td id=\"T_e540a_row8_col3\" class=\"data row8 col3\" >0.4342</td>\n",
       "      <td id=\"T_e540a_row8_col4\" class=\"data row8 col4\" >0.5703</td>\n",
       "      <td id=\"T_e540a_row8_col5\" class=\"data row8 col5\" >0.4919</td>\n",
       "      <td id=\"T_e540a_row8_col6\" class=\"data row8 col6\" >0.3413</td>\n",
       "      <td id=\"T_e540a_row8_col7\" class=\"data row8 col7\" >0.3472</td>\n",
       "      <td id=\"T_e540a_row8_col8\" class=\"data row8 col8\" >0.0680</td>\n",
       "    </tr>\n",
       "    <tr>\n",
       "      <th id=\"T_e540a_level0_row9\" class=\"row_heading level0 row9\" >qda</th>\n",
       "      <td id=\"T_e540a_row9_col0\" class=\"data row9 col0\" >Quadratic Discriminant Analysis</td>\n",
       "      <td id=\"T_e540a_row9_col1\" class=\"data row9 col1\" >0.7491</td>\n",
       "      <td id=\"T_e540a_row9_col2\" class=\"data row9 col2\" >0.8242</td>\n",
       "      <td id=\"T_e540a_row9_col3\" class=\"data row9 col3\" >0.7370</td>\n",
       "      <td id=\"T_e540a_row9_col4\" class=\"data row9 col4\" >0.5196</td>\n",
       "      <td id=\"T_e540a_row9_col5\" class=\"data row9 col5\" >0.6092</td>\n",
       "      <td id=\"T_e540a_row9_col6\" class=\"data row9 col6\" >0.4326</td>\n",
       "      <td id=\"T_e540a_row9_col7\" class=\"data row9 col7\" >0.4472</td>\n",
       "      <td id=\"T_e540a_row9_col8\" class=\"data row9 col8\" >0.0040</td>\n",
       "    </tr>\n",
       "    <tr>\n",
       "      <th id=\"T_e540a_level0_row10\" class=\"row_heading level0 row10\" >nb</th>\n",
       "      <td id=\"T_e540a_row10_col0\" class=\"data row10 col0\" >Naive Bayes</td>\n",
       "      <td id=\"T_e540a_row10_col1\" class=\"data row10 col1\" >0.7436</td>\n",
       "      <td id=\"T_e540a_row10_col2\" class=\"data row10 col2\" >0.8212</td>\n",
       "      <td id=\"T_e540a_row10_col3\" class=\"data row10 col3\" >0.7240</td>\n",
       "      <td id=\"T_e540a_row10_col4\" class=\"data row10 col4\" >0.5122</td>\n",
       "      <td id=\"T_e540a_row10_col5\" class=\"data row10 col5\" >0.5995</td>\n",
       "      <td id=\"T_e540a_row10_col6\" class=\"data row10 col6\" >0.4191</td>\n",
       "      <td id=\"T_e540a_row10_col7\" class=\"data row10 col7\" >0.4332</td>\n",
       "      <td id=\"T_e540a_row10_col8\" class=\"data row10 col8\" >0.0040</td>\n",
       "    </tr>\n",
       "    <tr>\n",
       "      <th id=\"T_e540a_level0_row11\" class=\"row_heading level0 row11\" >dummy</th>\n",
       "      <td id=\"T_e540a_row11_col0\" class=\"data row11 col0\" >Dummy Classifier</td>\n",
       "      <td id=\"T_e540a_row11_col1\" class=\"data row11 col1\" >0.7347</td>\n",
       "      <td id=\"T_e540a_row11_col2\" class=\"data row11 col2\" >0.5000</td>\n",
       "      <td id=\"T_e540a_row11_col3\" class=\"data row11 col3\" >0.0000</td>\n",
       "      <td id=\"T_e540a_row11_col4\" class=\"data row11 col4\" >0.0000</td>\n",
       "      <td id=\"T_e540a_row11_col5\" class=\"data row11 col5\" >0.0000</td>\n",
       "      <td id=\"T_e540a_row11_col6\" class=\"data row11 col6\" >0.0000</td>\n",
       "      <td id=\"T_e540a_row11_col7\" class=\"data row11 col7\" >0.0000</td>\n",
       "      <td id=\"T_e540a_row11_col8\" class=\"data row11 col8\" >0.0030</td>\n",
       "    </tr>\n",
       "    <tr>\n",
       "      <th id=\"T_e540a_level0_row12\" class=\"row_heading level0 row12\" >dt</th>\n",
       "      <td id=\"T_e540a_row12_col0\" class=\"data row12 col0\" >Decision Tree Classifier</td>\n",
       "      <td id=\"T_e540a_row12_col1\" class=\"data row12 col1\" >0.7329</td>\n",
       "      <td id=\"T_e540a_row12_col2\" class=\"data row12 col2\" >0.6626</td>\n",
       "      <td id=\"T_e540a_row12_col3\" class=\"data row12 col3\" >0.4985</td>\n",
       "      <td id=\"T_e540a_row12_col4\" class=\"data row12 col4\" >0.4977</td>\n",
       "      <td id=\"T_e540a_row12_col5\" class=\"data row12 col5\" >0.4975</td>\n",
       "      <td id=\"T_e540a_row12_col6\" class=\"data row12 col6\" >0.3158</td>\n",
       "      <td id=\"T_e540a_row12_col7\" class=\"data row12 col7\" >0.3161</td>\n",
       "      <td id=\"T_e540a_row12_col8\" class=\"data row12 col8\" >0.0050</td>\n",
       "    </tr>\n",
       "    <tr>\n",
       "      <th id=\"T_e540a_level0_row13\" class=\"row_heading level0 row13\" >svm</th>\n",
       "      <td id=\"T_e540a_row13_col0\" class=\"data row13 col0\" >SVM - Linear Kernel</td>\n",
       "      <td id=\"T_e540a_row13_col1\" class=\"data row13 col1\" >0.7241</td>\n",
       "      <td id=\"T_e540a_row13_col2\" class=\"data row13 col2\" >0.6977</td>\n",
       "      <td id=\"T_e540a_row13_col3\" class=\"data row13 col3\" >0.3966</td>\n",
       "      <td id=\"T_e540a_row13_col4\" class=\"data row13 col4\" >0.5885</td>\n",
       "      <td id=\"T_e540a_row13_col5\" class=\"data row13 col5\" >0.4089</td>\n",
       "      <td id=\"T_e540a_row13_col6\" class=\"data row13 col6\" >0.2591</td>\n",
       "      <td id=\"T_e540a_row13_col7\" class=\"data row13 col7\" >0.3037</td>\n",
       "      <td id=\"T_e540a_row13_col8\" class=\"data row13 col8\" >0.0060</td>\n",
       "    </tr>\n",
       "  </tbody>\n",
       "</table>\n"
      ],
      "text/plain": [
       "<pandas.io.formats.style.Styler at 0x328a70820>"
      ]
     },
     "metadata": {},
     "output_type": "display_data"
    },
    {
     "data": {
      "text/html": [],
      "text/plain": [
       "<IPython.core.display.HTML object>"
      ]
     },
     "metadata": {},
     "output_type": "display_data"
    }
   ],
   "source": [
    "# have pycaret compare models\n",
    "best_model = compare_models()"
   ]
  },
  {
   "cell_type": "code",
   "execution_count": 5,
   "id": "3ff494a7",
   "metadata": {},
   "outputs": [],
   "source": [
    "notebook_dir = os.getcwd()\n",
    "models_dir = os.path.join(notebook_dir, 'models')\n",
    "if(not os.path.exists(models_dir)):\n",
    "    os.makedirs(models_dir)"
   ]
  },
  {
   "cell_type": "code",
   "execution_count": 6,
   "id": "3779ea67",
   "metadata": {},
   "outputs": [
    {
     "name": "stdout",
     "output_type": "stream",
     "text": [
      "Transformation Pipeline and Model Successfully Saved\n"
     ]
    }
   ],
   "source": [
    "# save best model using the class name as the filename, so that we can save different models\n",
    "os.chdir(models_dir)\n",
    "model_name = best_model.__class__.__name__\n",
    "save_model(best_model, model_name)\n",
    "os.chdir(notebook_dir)\n"
   ]
  },
  {
   "cell_type": "code",
   "execution_count": 7,
   "id": "f615f45f",
   "metadata": {},
   "outputs": [
    {
     "name": "stdout",
     "output_type": "stream",
     "text": [
      "Transformation Pipeline and Model Successfully Loaded\n"
     ]
    }
   ],
   "source": [
    "# test the pickle file\n",
    "os.chdir(models_dir)\n",
    "loaded_model =load_model(model_name)\n",
    "loaded_model\n",
    "os.chdir(notebook_dir)\n"
   ]
  },
  {
   "cell_type": "code",
   "execution_count": 8,
   "id": "1867850b",
   "metadata": {},
   "outputs": [
    {
     "data": {
      "text/html": [],
      "text/plain": [
       "<IPython.core.display.HTML object>"
      ]
     },
     "metadata": {},
     "output_type": "display_data"
    },
    {
     "data": {
      "text/html": [
       "<div>\n",
       "<style scoped>\n",
       "    .dataframe tbody tr th:only-of-type {\n",
       "        vertical-align: middle;\n",
       "    }\n",
       "\n",
       "    .dataframe tbody tr th {\n",
       "        vertical-align: top;\n",
       "    }\n",
       "\n",
       "    .dataframe thead th {\n",
       "        text-align: right;\n",
       "    }\n",
       "</style>\n",
       "<table border=\"1\" class=\"dataframe\">\n",
       "  <thead>\n",
       "    <tr style=\"text-align: right;\">\n",
       "      <th></th>\n",
       "      <th>tenure</th>\n",
       "      <th>PhoneService</th>\n",
       "      <th>Contract</th>\n",
       "      <th>PaymentMethod</th>\n",
       "      <th>MonthlyCharges</th>\n",
       "      <th>TotalCharges</th>\n",
       "      <th>charge_per_tenure</th>\n",
       "      <th>prediction_label</th>\n",
       "      <th>prediction_score</th>\n",
       "    </tr>\n",
       "    <tr>\n",
       "      <th>customerID</th>\n",
       "      <th></th>\n",
       "      <th></th>\n",
       "      <th></th>\n",
       "      <th></th>\n",
       "      <th></th>\n",
       "      <th></th>\n",
       "      <th></th>\n",
       "      <th></th>\n",
       "      <th></th>\n",
       "    </tr>\n",
       "  </thead>\n",
       "  <tbody>\n",
       "    <tr>\n",
       "      <th>8361-LTMKD</th>\n",
       "      <td>4.0</td>\n",
       "      <td>1</td>\n",
       "      <td>0</td>\n",
       "      <td>2</td>\n",
       "      <td>74.400002</td>\n",
       "      <td>306.600006</td>\n",
       "      <td>76.650002</td>\n",
       "      <td>1</td>\n",
       "      <td>0.5717</td>\n",
       "    </tr>\n",
       "  </tbody>\n",
       "</table>\n",
       "</div>"
      ],
      "text/plain": [
       "            tenure  PhoneService  Contract  PaymentMethod  MonthlyCharges  \\\n",
       "customerID                                                                  \n",
       "8361-LTMKD     4.0             1         0              2       74.400002   \n",
       "\n",
       "            TotalCharges  charge_per_tenure  prediction_label  \\\n",
       "customerID                                                      \n",
       "8361-LTMKD    306.600006          76.650002                 1   \n",
       "\n",
       "            prediction_score  \n",
       "customerID                    \n",
       "8361-LTMKD            0.5717  "
      ]
     },
     "execution_count": 8,
     "metadata": {},
     "output_type": "execute_result"
    }
   ],
   "source": [
    "# test the loaded model by making a prediction\n",
    "unseen_data = df.copy()\n",
    "unseen_data = unseen_data.drop('Churn', axis=1)\n",
    "predict_model(loaded_model, data=unseen_data.iloc[-2:-1])"
   ]
  },
  {
   "cell_type": "code",
   "execution_count": 9,
   "id": "2c011d8b",
   "metadata": {},
   "outputs": [
    {
     "data": {
      "text/html": [
       "<div>\n",
       "<style scoped>\n",
       "    .dataframe tbody tr th:only-of-type {\n",
       "        vertical-align: middle;\n",
       "    }\n",
       "\n",
       "    .dataframe tbody tr th {\n",
       "        vertical-align: top;\n",
       "    }\n",
       "\n",
       "    .dataframe thead th {\n",
       "        text-align: right;\n",
       "    }\n",
       "</style>\n",
       "<table border=\"1\" class=\"dataframe\">\n",
       "  <thead>\n",
       "    <tr style=\"text-align: right;\">\n",
       "      <th></th>\n",
       "      <th>tenure</th>\n",
       "      <th>PhoneService</th>\n",
       "      <th>Contract</th>\n",
       "      <th>PaymentMethod</th>\n",
       "      <th>MonthlyCharges</th>\n",
       "      <th>TotalCharges</th>\n",
       "      <th>Churn</th>\n",
       "      <th>charge_per_tenure</th>\n",
       "    </tr>\n",
       "    <tr>\n",
       "      <th>customerID</th>\n",
       "      <th></th>\n",
       "      <th></th>\n",
       "      <th></th>\n",
       "      <th></th>\n",
       "      <th></th>\n",
       "      <th></th>\n",
       "      <th></th>\n",
       "      <th></th>\n",
       "    </tr>\n",
       "  </thead>\n",
       "  <tbody>\n",
       "    <tr>\n",
       "      <th>8361-LTMKD</th>\n",
       "      <td>4.0</td>\n",
       "      <td>1</td>\n",
       "      <td>0</td>\n",
       "      <td>2</td>\n",
       "      <td>74.4</td>\n",
       "      <td>306.6</td>\n",
       "      <td>1</td>\n",
       "      <td>76.65</td>\n",
       "    </tr>\n",
       "  </tbody>\n",
       "</table>\n",
       "</div>"
      ],
      "text/plain": [
       "            tenure  PhoneService  Contract  PaymentMethod  MonthlyCharges  \\\n",
       "customerID                                                                  \n",
       "8361-LTMKD     4.0             1         0              2            74.4   \n",
       "\n",
       "            TotalCharges  Churn  charge_per_tenure  \n",
       "customerID                                          \n",
       "8361-LTMKD         306.6      1              76.65  "
      ]
     },
     "execution_count": 9,
     "metadata": {},
     "output_type": "execute_result"
    }
   ],
   "source": [
    "# vefify the prediction\n",
    "df.iloc[-2:-1]"
   ]
  },
  {
   "cell_type": "code",
   "execution_count": 10,
   "id": "427cf6f7",
   "metadata": {},
   "outputs": [
    {
     "data": {
      "text/plain": [
       "['GradientBoostingClassifier.pkl', 'LogisticRegression.pkl']"
      ]
     },
     "execution_count": 10,
     "metadata": {},
     "output_type": "execute_result"
    }
   ],
   "source": [
    "from src.predict_churn import list_models, make_prediction\n",
    "list_models(models_dir)"
   ]
  },
  {
   "cell_type": "code",
   "execution_count": 11,
   "id": "19c6a4b3",
   "metadata": {},
   "outputs": [
    {
     "name": "stdout",
     "output_type": "stream",
     "text": [
      "Transformation Pipeline and Model Successfully Loaded\n"
     ]
    },
    {
     "data": {
      "text/html": [],
      "text/plain": [
       "<IPython.core.display.HTML object>"
      ]
     },
     "metadata": {},
     "output_type": "display_data"
    },
    {
     "data": {
      "text/html": [
       "<div>\n",
       "<style scoped>\n",
       "    .dataframe tbody tr th:only-of-type {\n",
       "        vertical-align: middle;\n",
       "    }\n",
       "\n",
       "    .dataframe tbody tr th {\n",
       "        vertical-align: top;\n",
       "    }\n",
       "\n",
       "    .dataframe thead th {\n",
       "        text-align: right;\n",
       "    }\n",
       "</style>\n",
       "<table border=\"1\" class=\"dataframe\">\n",
       "  <thead>\n",
       "    <tr style=\"text-align: right;\">\n",
       "      <th></th>\n",
       "      <th>tenure</th>\n",
       "      <th>PhoneService</th>\n",
       "      <th>Contract</th>\n",
       "      <th>PaymentMethod</th>\n",
       "      <th>MonthlyCharges</th>\n",
       "      <th>TotalCharges</th>\n",
       "      <th>charge_per_tenure</th>\n",
       "      <th>prediction_label</th>\n",
       "      <th>prediction_score</th>\n",
       "    </tr>\n",
       "    <tr>\n",
       "      <th>customerID</th>\n",
       "      <th></th>\n",
       "      <th></th>\n",
       "      <th></th>\n",
       "      <th></th>\n",
       "      <th></th>\n",
       "      <th></th>\n",
       "      <th></th>\n",
       "      <th></th>\n",
       "      <th></th>\n",
       "    </tr>\n",
       "  </thead>\n",
       "  <tbody>\n",
       "    <tr>\n",
       "      <th>9305-CKSKC</th>\n",
       "      <td>22</td>\n",
       "      <td>1</td>\n",
       "      <td>0</td>\n",
       "      <td>2</td>\n",
       "      <td>97.400002</td>\n",
       "      <td>811.700012</td>\n",
       "      <td>36.895454</td>\n",
       "      <td>1</td>\n",
       "      <td>0.5010</td>\n",
       "    </tr>\n",
       "    <tr>\n",
       "      <th>1452-KNGVK</th>\n",
       "      <td>8</td>\n",
       "      <td>0</td>\n",
       "      <td>1</td>\n",
       "      <td>1</td>\n",
       "      <td>77.300003</td>\n",
       "      <td>1701.949951</td>\n",
       "      <td>212.743744</td>\n",
       "      <td>1</td>\n",
       "      <td>0.5833</td>\n",
       "    </tr>\n",
       "    <tr>\n",
       "      <th>6723-OKKJM</th>\n",
       "      <td>28</td>\n",
       "      <td>1</td>\n",
       "      <td>0</td>\n",
       "      <td>0</td>\n",
       "      <td>28.250000</td>\n",
       "      <td>250.899994</td>\n",
       "      <td>8.960714</td>\n",
       "      <td>0</td>\n",
       "      <td>0.9368</td>\n",
       "    </tr>\n",
       "    <tr>\n",
       "      <th>7832-POPKP</th>\n",
       "      <td>62</td>\n",
       "      <td>1</td>\n",
       "      <td>0</td>\n",
       "      <td>2</td>\n",
       "      <td>101.699997</td>\n",
       "      <td>3106.560059</td>\n",
       "      <td>50.105808</td>\n",
       "      <td>0</td>\n",
       "      <td>0.8075</td>\n",
       "    </tr>\n",
       "    <tr>\n",
       "      <th>6348-TACGU</th>\n",
       "      <td>10</td>\n",
       "      <td>0</td>\n",
       "      <td>0</td>\n",
       "      <td>1</td>\n",
       "      <td>51.150002</td>\n",
       "      <td>3440.969971</td>\n",
       "      <td>344.096985</td>\n",
       "      <td>1</td>\n",
       "      <td>0.7838</td>\n",
       "    </tr>\n",
       "  </tbody>\n",
       "</table>\n",
       "</div>"
      ],
      "text/plain": [
       "            tenure  PhoneService  Contract  PaymentMethod  MonthlyCharges  \\\n",
       "customerID                                                                  \n",
       "9305-CKSKC      22             1         0              2       97.400002   \n",
       "1452-KNGVK       8             0         1              1       77.300003   \n",
       "6723-OKKJM      28             1         0              0       28.250000   \n",
       "7832-POPKP      62             1         0              2      101.699997   \n",
       "6348-TACGU      10             0         0              1       51.150002   \n",
       "\n",
       "            TotalCharges  charge_per_tenure  prediction_label  \\\n",
       "customerID                                                      \n",
       "9305-CKSKC    811.700012          36.895454                 1   \n",
       "1452-KNGVK   1701.949951         212.743744                 1   \n",
       "6723-OKKJM    250.899994           8.960714                 0   \n",
       "7832-POPKP   3106.560059          50.105808                 0   \n",
       "6348-TACGU   3440.969971         344.096985                 1   \n",
       "\n",
       "            prediction_score  \n",
       "customerID                    \n",
       "9305-CKSKC            0.5010  \n",
       "1452-KNGVK            0.5833  \n",
       "6723-OKKJM            0.9368  \n",
       "7832-POPKP            0.8075  \n",
       "6348-TACGU            0.7838  "
      ]
     },
     "execution_count": 11,
     "metadata": {},
     "output_type": "execute_result"
    }
   ],
   "source": [
    "\n",
    "new_data = pd.read_csv('./data/new_churn_data.csv', index_col='customerID')\n",
    "make_prediction(models_dir,'LogisticRegression', new_data)"
   ]
  },
  {
   "cell_type": "markdown",
   "id": "c49db562",
   "metadata": {},
   "source": [
    "# Summary"
   ]
  },
  {
   "cell_type": "code",
   "execution_count": null,
   "id": "2d518d21",
   "metadata": {},
   "outputs": [],
   "source": []
  },
  {
   "cell_type": "markdown",
   "id": "9533a1cd",
   "metadata": {},
   "source": [
    "Write a short summary of the process and results here."
   ]
  }
 ],
 "metadata": {
  "kernelspec": {
   "display_name": "Python 3",
   "language": "python",
   "name": "python3"
  },
  "language_info": {
   "codemirror_mode": {
    "name": "ipython",
    "version": 3
   },
   "file_extension": ".py",
   "mimetype": "text/x-python",
   "name": "python",
   "nbconvert_exporter": "python",
   "pygments_lexer": "ipython3",
   "version": "3.10.15"
  }
 },
 "nbformat": 4,
 "nbformat_minor": 5
}
