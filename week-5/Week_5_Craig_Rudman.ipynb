{
 "cells": [
  {
   "cell_type": "markdown",
   "id": "165166dd",
   "metadata": {},
   "source": [
    "# DS Automation Assignment"
   ]
  },
  {
   "cell_type": "markdown",
   "id": "c195af74",
   "metadata": {},
   "source": [
    "Using our prepared churn data from week 2:\n",
    "- use pycaret to find an ML algorithm that performs best on the data\n",
    "    - Choose a metric you think is best to use for finding the best model; by default, it is accuracy but it could be AUC, precision, recall, etc. The week 3 FTE has some information on these different metrics.\n",
    "- save the model to disk\n",
    "- create a Python script/file/module with a function that takes a pandas dataframe as an input and returns the probability of churn for each row in the dataframe\n",
    "    - your Python file/function should print out the predictions for new data (new_churn_data.csv)\n",
    "    - the true values for the new data are [1, 0, 0, 1, 0] if you're interested\n",
    "- test your Python module and function with the new data, new_churn_data.csv\n",
    "- write a short summary of the process and results at the end of this notebook\n",
    "- upload this Jupyter Notebook and Python file to a Github repository, and turn in a link to the repository in the week 5 assignment dropbox\n",
    "\n",
    "*Optional* challenges:\n",
    "- return the probability of churn for each new prediction, and the percentile where that prediction is in the distribution of probability predictions from the training dataset (e.g. a high probability of churn like 0.78 might be at the 90th percentile)\n",
    "- use other autoML packages, such as TPOT, H2O, MLBox, etc, and compare performance and features with pycaret\n",
    "- create a class in your Python module to hold the functions that you created\n",
    "- accept user input to specify a file using a tool such as Python's `input()` function, the `click` package for command-line arguments, or a GUI\n",
    "- Use the unmodified churn data (new_unmodified_churn_data.csv) in your Python script. This will require adding the same preprocessing steps from week 2 since this data is like the original unmodified dataset from week 1."
   ]
  },
  {
   "cell_type": "code",
   "execution_count": 1,
   "id": "476ed965",
   "metadata": {},
   "outputs": [],
   "source": [
    "# import libraries\n",
    "import pandas as pd\n",
    "import os as os\n",
    "from pycaret.classification import setup, compare_models, predict_model, save_model, load_model"
   ]
  },
  {
   "cell_type": "code",
   "execution_count": 2,
   "id": "92249e49",
   "metadata": {},
   "outputs": [
    {
     "name": "stdout",
     "output_type": "stream",
     "text": [
      "<class 'pandas.core.frame.DataFrame'>\n",
      "Index: 7043 entries, 7590-VHVEG to 3186-AJIEK\n",
      "Data columns (total 8 columns):\n",
      " #   Column             Non-Null Count  Dtype  \n",
      "---  ------             --------------  -----  \n",
      " 0   tenure             7043 non-null   float64\n",
      " 1   PhoneService       7043 non-null   int64  \n",
      " 2   Contract           7043 non-null   int64  \n",
      " 3   PaymentMethod      7043 non-null   int64  \n",
      " 4   MonthlyCharges     7043 non-null   float64\n",
      " 5   TotalCharges       7043 non-null   float64\n",
      " 6   Churn              7043 non-null   int64  \n",
      " 7   charge_per_tenure  7043 non-null   float64\n",
      "dtypes: float64(4), int64(4)\n",
      "memory usage: 495.2+ KB\n"
     ]
    }
   ],
   "source": [
    "# load data\n",
    "df = pd.read_csv('./data/prepared_churn_data.csv', index_col='customerID')\n",
    "df.info()"
   ]
  },
  {
   "cell_type": "code",
   "execution_count": 3,
   "id": "6916d463",
   "metadata": {},
   "outputs": [
    {
     "data": {
      "text/html": [
       "<style type=\"text/css\">\n",
       "</style>\n",
       "<table id=\"T_f062d\">\n",
       "  <thead>\n",
       "    <tr>\n",
       "      <th class=\"blank level0\" >&nbsp;</th>\n",
       "      <th id=\"T_f062d_level0_col0\" class=\"col_heading level0 col0\" >Description</th>\n",
       "      <th id=\"T_f062d_level0_col1\" class=\"col_heading level0 col1\" >Value</th>\n",
       "    </tr>\n",
       "  </thead>\n",
       "  <tbody>\n",
       "    <tr>\n",
       "      <th id=\"T_f062d_level0_row0\" class=\"row_heading level0 row0\" >0</th>\n",
       "      <td id=\"T_f062d_row0_col0\" class=\"data row0 col0\" >Session id</td>\n",
       "      <td id=\"T_f062d_row0_col1\" class=\"data row0 col1\" >5589</td>\n",
       "    </tr>\n",
       "    <tr>\n",
       "      <th id=\"T_f062d_level0_row1\" class=\"row_heading level0 row1\" >1</th>\n",
       "      <td id=\"T_f062d_row1_col0\" class=\"data row1 col0\" >Target</td>\n",
       "      <td id=\"T_f062d_row1_col1\" class=\"data row1 col1\" >Churn</td>\n",
       "    </tr>\n",
       "    <tr>\n",
       "      <th id=\"T_f062d_level0_row2\" class=\"row_heading level0 row2\" >2</th>\n",
       "      <td id=\"T_f062d_row2_col0\" class=\"data row2 col0\" >Target type</td>\n",
       "      <td id=\"T_f062d_row2_col1\" class=\"data row2 col1\" >Binary</td>\n",
       "    </tr>\n",
       "    <tr>\n",
       "      <th id=\"T_f062d_level0_row3\" class=\"row_heading level0 row3\" >3</th>\n",
       "      <td id=\"T_f062d_row3_col0\" class=\"data row3 col0\" >Original data shape</td>\n",
       "      <td id=\"T_f062d_row3_col1\" class=\"data row3 col1\" >(7043, 8)</td>\n",
       "    </tr>\n",
       "    <tr>\n",
       "      <th id=\"T_f062d_level0_row4\" class=\"row_heading level0 row4\" >4</th>\n",
       "      <td id=\"T_f062d_row4_col0\" class=\"data row4 col0\" >Transformed data shape</td>\n",
       "      <td id=\"T_f062d_row4_col1\" class=\"data row4 col1\" >(7043, 8)</td>\n",
       "    </tr>\n",
       "    <tr>\n",
       "      <th id=\"T_f062d_level0_row5\" class=\"row_heading level0 row5\" >5</th>\n",
       "      <td id=\"T_f062d_row5_col0\" class=\"data row5 col0\" >Transformed train set shape</td>\n",
       "      <td id=\"T_f062d_row5_col1\" class=\"data row5 col1\" >(4930, 8)</td>\n",
       "    </tr>\n",
       "    <tr>\n",
       "      <th id=\"T_f062d_level0_row6\" class=\"row_heading level0 row6\" >6</th>\n",
       "      <td id=\"T_f062d_row6_col0\" class=\"data row6 col0\" >Transformed test set shape</td>\n",
       "      <td id=\"T_f062d_row6_col1\" class=\"data row6 col1\" >(2113, 8)</td>\n",
       "    </tr>\n",
       "    <tr>\n",
       "      <th id=\"T_f062d_level0_row7\" class=\"row_heading level0 row7\" >7</th>\n",
       "      <td id=\"T_f062d_row7_col0\" class=\"data row7 col0\" >Ignore features</td>\n",
       "      <td id=\"T_f062d_row7_col1\" class=\"data row7 col1\" >1</td>\n",
       "    </tr>\n",
       "    <tr>\n",
       "      <th id=\"T_f062d_level0_row8\" class=\"row_heading level0 row8\" >8</th>\n",
       "      <td id=\"T_f062d_row8_col0\" class=\"data row8 col0\" >Numeric features</td>\n",
       "      <td id=\"T_f062d_row8_col1\" class=\"data row8 col1\" >7</td>\n",
       "    </tr>\n",
       "  </tbody>\n",
       "</table>\n"
      ],
      "text/plain": [
       "<pandas.io.formats.style.Styler at 0x32b3ffd90>"
      ]
     },
     "metadata": {},
     "output_type": "display_data"
    }
   ],
   "source": [
    "# Setup pycaret, ignoring customerID\n",
    "automl = setup(df, target='Churn', preprocess=False, ignore_features=['customerID'])"
   ]
  },
  {
   "cell_type": "code",
   "execution_count": 4,
   "id": "9409e6b4",
   "metadata": {},
   "outputs": [
    {
     "data": {
      "text/html": [],
      "text/plain": [
       "<IPython.core.display.HTML object>"
      ]
     },
     "metadata": {},
     "output_type": "display_data"
    },
    {
     "data": {
      "text/html": [
       "<style type=\"text/css\">\n",
       "#T_965e8 th {\n",
       "  text-align: left;\n",
       "}\n",
       "#T_965e8_row0_col0, #T_965e8_row0_col2, #T_965e8_row0_col3, #T_965e8_row0_col4, #T_965e8_row0_col5, #T_965e8_row1_col0, #T_965e8_row1_col1, #T_965e8_row1_col3, #T_965e8_row1_col4, #T_965e8_row1_col5, #T_965e8_row1_col6, #T_965e8_row1_col7, #T_965e8_row2_col0, #T_965e8_row2_col1, #T_965e8_row2_col2, #T_965e8_row2_col3, #T_965e8_row2_col5, #T_965e8_row2_col6, #T_965e8_row2_col7, #T_965e8_row3_col0, #T_965e8_row3_col1, #T_965e8_row3_col2, #T_965e8_row3_col3, #T_965e8_row3_col4, #T_965e8_row3_col5, #T_965e8_row3_col6, #T_965e8_row3_col7, #T_965e8_row4_col0, #T_965e8_row4_col1, #T_965e8_row4_col2, #T_965e8_row4_col3, #T_965e8_row4_col4, #T_965e8_row4_col5, #T_965e8_row4_col6, #T_965e8_row4_col7, #T_965e8_row5_col0, #T_965e8_row5_col1, #T_965e8_row5_col2, #T_965e8_row5_col3, #T_965e8_row5_col4, #T_965e8_row5_col5, #T_965e8_row5_col6, #T_965e8_row5_col7, #T_965e8_row6_col0, #T_965e8_row6_col1, #T_965e8_row6_col2, #T_965e8_row6_col3, #T_965e8_row6_col4, #T_965e8_row6_col5, #T_965e8_row6_col6, #T_965e8_row6_col7, #T_965e8_row7_col0, #T_965e8_row7_col1, #T_965e8_row7_col2, #T_965e8_row7_col3, #T_965e8_row7_col4, #T_965e8_row7_col5, #T_965e8_row7_col6, #T_965e8_row7_col7, #T_965e8_row8_col0, #T_965e8_row8_col1, #T_965e8_row8_col2, #T_965e8_row8_col3, #T_965e8_row8_col4, #T_965e8_row8_col5, #T_965e8_row8_col6, #T_965e8_row8_col7, #T_965e8_row9_col0, #T_965e8_row9_col1, #T_965e8_row9_col2, #T_965e8_row9_col3, #T_965e8_row9_col4, #T_965e8_row9_col5, #T_965e8_row9_col6, #T_965e8_row9_col7, #T_965e8_row10_col0, #T_965e8_row10_col1, #T_965e8_row10_col2, #T_965e8_row10_col4, #T_965e8_row10_col6, #T_965e8_row10_col7, #T_965e8_row11_col0, #T_965e8_row11_col1, #T_965e8_row11_col2, #T_965e8_row11_col3, #T_965e8_row11_col4, #T_965e8_row11_col5, #T_965e8_row11_col6, #T_965e8_row11_col7, #T_965e8_row12_col0, #T_965e8_row12_col1, #T_965e8_row12_col2, #T_965e8_row12_col3, #T_965e8_row12_col4, #T_965e8_row12_col5, #T_965e8_row12_col6, #T_965e8_row12_col7, #T_965e8_row13_col0, #T_965e8_row13_col1, #T_965e8_row13_col2, #T_965e8_row13_col3, #T_965e8_row13_col4, #T_965e8_row13_col5, #T_965e8_row13_col6, #T_965e8_row13_col7 {\n",
       "  text-align: left;\n",
       "}\n",
       "#T_965e8_row0_col1, #T_965e8_row0_col6, #T_965e8_row0_col7, #T_965e8_row1_col2, #T_965e8_row2_col4, #T_965e8_row10_col3, #T_965e8_row10_col5 {\n",
       "  text-align: left;\n",
       "  background-color: yellow;\n",
       "}\n",
       "#T_965e8_row0_col8, #T_965e8_row1_col8, #T_965e8_row4_col8, #T_965e8_row5_col8, #T_965e8_row6_col8, #T_965e8_row7_col8, #T_965e8_row8_col8, #T_965e8_row9_col8, #T_965e8_row13_col8 {\n",
       "  text-align: left;\n",
       "  background-color: lightgrey;\n",
       "}\n",
       "#T_965e8_row2_col8, #T_965e8_row3_col8, #T_965e8_row10_col8, #T_965e8_row11_col8, #T_965e8_row12_col8 {\n",
       "  text-align: left;\n",
       "  background-color: yellow;\n",
       "  background-color: lightgrey;\n",
       "}\n",
       "</style>\n",
       "<table id=\"T_965e8\">\n",
       "  <thead>\n",
       "    <tr>\n",
       "      <th class=\"blank level0\" >&nbsp;</th>\n",
       "      <th id=\"T_965e8_level0_col0\" class=\"col_heading level0 col0\" >Model</th>\n",
       "      <th id=\"T_965e8_level0_col1\" class=\"col_heading level0 col1\" >Accuracy</th>\n",
       "      <th id=\"T_965e8_level0_col2\" class=\"col_heading level0 col2\" >AUC</th>\n",
       "      <th id=\"T_965e8_level0_col3\" class=\"col_heading level0 col3\" >Recall</th>\n",
       "      <th id=\"T_965e8_level0_col4\" class=\"col_heading level0 col4\" >Prec.</th>\n",
       "      <th id=\"T_965e8_level0_col5\" class=\"col_heading level0 col5\" >F1</th>\n",
       "      <th id=\"T_965e8_level0_col6\" class=\"col_heading level0 col6\" >Kappa</th>\n",
       "      <th id=\"T_965e8_level0_col7\" class=\"col_heading level0 col7\" >MCC</th>\n",
       "      <th id=\"T_965e8_level0_col8\" class=\"col_heading level0 col8\" >TT (Sec)</th>\n",
       "    </tr>\n",
       "  </thead>\n",
       "  <tbody>\n",
       "    <tr>\n",
       "      <th id=\"T_965e8_level0_row0\" class=\"row_heading level0 row0\" >lr</th>\n",
       "      <td id=\"T_965e8_row0_col0\" class=\"data row0 col0\" >Logistic Regression</td>\n",
       "      <td id=\"T_965e8_row0_col1\" class=\"data row0 col1\" >0.7929</td>\n",
       "      <td id=\"T_965e8_row0_col2\" class=\"data row0 col2\" >0.8309</td>\n",
       "      <td id=\"T_965e8_row0_col3\" class=\"data row0 col3\" >0.5114</td>\n",
       "      <td id=\"T_965e8_row0_col4\" class=\"data row0 col4\" >0.6367</td>\n",
       "      <td id=\"T_965e8_row0_col5\" class=\"data row0 col5\" >0.5666</td>\n",
       "      <td id=\"T_965e8_row0_col6\" class=\"data row0 col6\" >0.4328</td>\n",
       "      <td id=\"T_965e8_row0_col7\" class=\"data row0 col7\" >0.4376</td>\n",
       "      <td id=\"T_965e8_row0_col8\" class=\"data row0 col8\" >0.2430</td>\n",
       "    </tr>\n",
       "    <tr>\n",
       "      <th id=\"T_965e8_level0_row1\" class=\"row_heading level0 row1\" >gbc</th>\n",
       "      <td id=\"T_965e8_row1_col0\" class=\"data row1 col0\" >Gradient Boosting Classifier</td>\n",
       "      <td id=\"T_965e8_row1_col1\" class=\"data row1 col1\" >0.7923</td>\n",
       "      <td id=\"T_965e8_row1_col2\" class=\"data row1 col2\" >0.8358</td>\n",
       "      <td id=\"T_965e8_row1_col3\" class=\"data row1 col3\" >0.4900</td>\n",
       "      <td id=\"T_965e8_row1_col4\" class=\"data row1 col4\" >0.6426</td>\n",
       "      <td id=\"T_965e8_row1_col5\" class=\"data row1 col5\" >0.5558</td>\n",
       "      <td id=\"T_965e8_row1_col6\" class=\"data row1 col6\" >0.4235</td>\n",
       "      <td id=\"T_965e8_row1_col7\" class=\"data row1 col7\" >0.4303</td>\n",
       "      <td id=\"T_965e8_row1_col8\" class=\"data row1 col8\" >0.0520</td>\n",
       "    </tr>\n",
       "    <tr>\n",
       "      <th id=\"T_965e8_level0_row2\" class=\"row_heading level0 row2\" >ridge</th>\n",
       "      <td id=\"T_965e8_row2_col0\" class=\"data row2 col0\" >Ridge Classifier</td>\n",
       "      <td id=\"T_965e8_row2_col1\" class=\"data row2 col1\" >0.7897</td>\n",
       "      <td id=\"T_965e8_row2_col2\" class=\"data row2 col2\" >0.8179</td>\n",
       "      <td id=\"T_965e8_row2_col3\" class=\"data row2 col3\" >0.4381</td>\n",
       "      <td id=\"T_965e8_row2_col4\" class=\"data row2 col4\" >0.6539</td>\n",
       "      <td id=\"T_965e8_row2_col5\" class=\"data row2 col5\" >0.5239</td>\n",
       "      <td id=\"T_965e8_row2_col6\" class=\"data row2 col6\" >0.3959</td>\n",
       "      <td id=\"T_965e8_row2_col7\" class=\"data row2 col7\" >0.4093</td>\n",
       "      <td id=\"T_965e8_row2_col8\" class=\"data row2 col8\" >0.0040</td>\n",
       "    </tr>\n",
       "    <tr>\n",
       "      <th id=\"T_965e8_level0_row3\" class=\"row_heading level0 row3\" >lda</th>\n",
       "      <td id=\"T_965e8_row3_col0\" class=\"data row3 col0\" >Linear Discriminant Analysis</td>\n",
       "      <td id=\"T_965e8_row3_col1\" class=\"data row3 col1\" >0.7890</td>\n",
       "      <td id=\"T_965e8_row3_col2\" class=\"data row3 col2\" >0.8179</td>\n",
       "      <td id=\"T_965e8_row3_col3\" class=\"data row3 col3\" >0.4900</td>\n",
       "      <td id=\"T_965e8_row3_col4\" class=\"data row3 col4\" >0.6307</td>\n",
       "      <td id=\"T_965e8_row3_col5\" class=\"data row3 col5\" >0.5509</td>\n",
       "      <td id=\"T_965e8_row3_col6\" class=\"data row3 col6\" >0.4162</td>\n",
       "      <td id=\"T_965e8_row3_col7\" class=\"data row3 col7\" >0.4221</td>\n",
       "      <td id=\"T_965e8_row3_col8\" class=\"data row3 col8\" >0.0040</td>\n",
       "    </tr>\n",
       "    <tr>\n",
       "      <th id=\"T_965e8_level0_row4\" class=\"row_heading level0 row4\" >lightgbm</th>\n",
       "      <td id=\"T_965e8_row4_col0\" class=\"data row4 col0\" >Light Gradient Boosting Machine</td>\n",
       "      <td id=\"T_965e8_row4_col1\" class=\"data row4 col1\" >0.7864</td>\n",
       "      <td id=\"T_965e8_row4_col2\" class=\"data row4 col2\" >0.8237</td>\n",
       "      <td id=\"T_965e8_row4_col3\" class=\"data row4 col3\" >0.5167</td>\n",
       "      <td id=\"T_965e8_row4_col4\" class=\"data row4 col4\" >0.6161</td>\n",
       "      <td id=\"T_965e8_row4_col5\" class=\"data row4 col5\" >0.5614</td>\n",
       "      <td id=\"T_965e8_row4_col6\" class=\"data row4 col6\" >0.4219</td>\n",
       "      <td id=\"T_965e8_row4_col7\" class=\"data row4 col7\" >0.4251</td>\n",
       "      <td id=\"T_965e8_row4_col8\" class=\"data row4 col8\" >0.3160</td>\n",
       "    </tr>\n",
       "    <tr>\n",
       "      <th id=\"T_965e8_level0_row5\" class=\"row_heading level0 row5\" >ada</th>\n",
       "      <td id=\"T_965e8_row5_col0\" class=\"data row5 col0\" >Ada Boost Classifier</td>\n",
       "      <td id=\"T_965e8_row5_col1\" class=\"data row5 col1\" >0.7828</td>\n",
       "      <td id=\"T_965e8_row5_col2\" class=\"data row5 col2\" >0.8314</td>\n",
       "      <td id=\"T_965e8_row5_col3\" class=\"data row5 col3\" >0.4755</td>\n",
       "      <td id=\"T_965e8_row5_col4\" class=\"data row5 col4\" >0.6174</td>\n",
       "      <td id=\"T_965e8_row5_col5\" class=\"data row5 col5\" >0.5366</td>\n",
       "      <td id=\"T_965e8_row5_col6\" class=\"data row5 col6\" >0.3980</td>\n",
       "      <td id=\"T_965e8_row5_col7\" class=\"data row5 col7\" >0.4041</td>\n",
       "      <td id=\"T_965e8_row5_col8\" class=\"data row5 col8\" >0.0190</td>\n",
       "    </tr>\n",
       "    <tr>\n",
       "      <th id=\"T_965e8_level0_row6\" class=\"row_heading level0 row6\" >rf</th>\n",
       "      <td id=\"T_965e8_row6_col0\" class=\"data row6 col0\" >Random Forest Classifier</td>\n",
       "      <td id=\"T_965e8_row6_col1\" class=\"data row6 col1\" >0.7777</td>\n",
       "      <td id=\"T_965e8_row6_col2\" class=\"data row6 col2\" >0.7995</td>\n",
       "      <td id=\"T_965e8_row6_col3\" class=\"data row6 col3\" >0.4686</td>\n",
       "      <td id=\"T_965e8_row6_col4\" class=\"data row6 col4\" >0.6048</td>\n",
       "      <td id=\"T_965e8_row6_col5\" class=\"data row6 col5\" >0.5277</td>\n",
       "      <td id=\"T_965e8_row6_col6\" class=\"data row6 col6\" >0.3855</td>\n",
       "      <td id=\"T_965e8_row6_col7\" class=\"data row6 col7\" >0.3910</td>\n",
       "      <td id=\"T_965e8_row6_col8\" class=\"data row6 col8\" >0.0480</td>\n",
       "    </tr>\n",
       "    <tr>\n",
       "      <th id=\"T_965e8_level0_row7\" class=\"row_heading level0 row7\" >svm</th>\n",
       "      <td id=\"T_965e8_row7_col0\" class=\"data row7 col0\" >SVM - Linear Kernel</td>\n",
       "      <td id=\"T_965e8_row7_col1\" class=\"data row7 col1\" >0.7698</td>\n",
       "      <td id=\"T_965e8_row7_col2\" class=\"data row7 col2\" >0.7495</td>\n",
       "      <td id=\"T_965e8_row7_col3\" class=\"data row7 col3\" >0.4259</td>\n",
       "      <td id=\"T_965e8_row7_col4\" class=\"data row7 col4\" >0.6014</td>\n",
       "      <td id=\"T_965e8_row7_col5\" class=\"data row7 col5\" >0.4844</td>\n",
       "      <td id=\"T_965e8_row7_col6\" class=\"data row7 col6\" >0.3463</td>\n",
       "      <td id=\"T_965e8_row7_col7\" class=\"data row7 col7\" >0.3606</td>\n",
       "      <td id=\"T_965e8_row7_col8\" class=\"data row7 col8\" >0.0060</td>\n",
       "    </tr>\n",
       "    <tr>\n",
       "      <th id=\"T_965e8_level0_row8\" class=\"row_heading level0 row8\" >knn</th>\n",
       "      <td id=\"T_965e8_row8_col0\" class=\"data row8 col0\" >K Neighbors Classifier</td>\n",
       "      <td id=\"T_965e8_row8_col1\" class=\"data row8 col1\" >0.7641</td>\n",
       "      <td id=\"T_965e8_row8_col2\" class=\"data row8 col2\" >0.7514</td>\n",
       "      <td id=\"T_965e8_row8_col3\" class=\"data row8 col3\" >0.4265</td>\n",
       "      <td id=\"T_965e8_row8_col4\" class=\"data row8 col4\" >0.5736</td>\n",
       "      <td id=\"T_965e8_row8_col5\" class=\"data row8 col5\" >0.4886</td>\n",
       "      <td id=\"T_965e8_row8_col6\" class=\"data row8 col6\" >0.3399</td>\n",
       "      <td id=\"T_965e8_row8_col7\" class=\"data row8 col7\" >0.3464</td>\n",
       "      <td id=\"T_965e8_row8_col8\" class=\"data row8 col8\" >0.0670</td>\n",
       "    </tr>\n",
       "    <tr>\n",
       "      <th id=\"T_965e8_level0_row9\" class=\"row_heading level0 row9\" >et</th>\n",
       "      <td id=\"T_965e8_row9_col0\" class=\"data row9 col0\" >Extra Trees Classifier</td>\n",
       "      <td id=\"T_965e8_row9_col1\" class=\"data row9 col1\" >0.7641</td>\n",
       "      <td id=\"T_965e8_row9_col2\" class=\"data row9 col2\" >0.7828</td>\n",
       "      <td id=\"T_965e8_row9_col3\" class=\"data row9 col3\" >0.4793</td>\n",
       "      <td id=\"T_965e8_row9_col4\" class=\"data row9 col4\" >0.5655</td>\n",
       "      <td id=\"T_965e8_row9_col5\" class=\"data row9 col5\" >0.5185</td>\n",
       "      <td id=\"T_965e8_row9_col6\" class=\"data row9 col6\" >0.3638</td>\n",
       "      <td id=\"T_965e8_row9_col7\" class=\"data row9 col7\" >0.3662</td>\n",
       "      <td id=\"T_965e8_row9_col8\" class=\"data row9 col8\" >0.0360</td>\n",
       "    </tr>\n",
       "    <tr>\n",
       "      <th id=\"T_965e8_level0_row10\" class=\"row_heading level0 row10\" >qda</th>\n",
       "      <td id=\"T_965e8_row10_col0\" class=\"data row10 col0\" >Quadratic Discriminant Analysis</td>\n",
       "      <td id=\"T_965e8_row10_col1\" class=\"data row10 col1\" >0.7444</td>\n",
       "      <td id=\"T_965e8_row10_col2\" class=\"data row10 col2\" >0.8159</td>\n",
       "      <td id=\"T_965e8_row10_col3\" class=\"data row10 col3\" >0.7240</td>\n",
       "      <td id=\"T_965e8_row10_col4\" class=\"data row10 col4\" >0.5135</td>\n",
       "      <td id=\"T_965e8_row10_col5\" class=\"data row10 col5\" >0.6004</td>\n",
       "      <td id=\"T_965e8_row10_col6\" class=\"data row10 col6\" >0.4205</td>\n",
       "      <td id=\"T_965e8_row10_col7\" class=\"data row10 col7\" >0.4344</td>\n",
       "      <td id=\"T_965e8_row10_col8\" class=\"data row10 col8\" >0.0040</td>\n",
       "    </tr>\n",
       "    <tr>\n",
       "      <th id=\"T_965e8_level0_row11\" class=\"row_heading level0 row11\" >nb</th>\n",
       "      <td id=\"T_965e8_row11_col0\" class=\"data row11 col0\" >Naive Bayes</td>\n",
       "      <td id=\"T_965e8_row11_col1\" class=\"data row11 col1\" >0.7383</td>\n",
       "      <td id=\"T_965e8_row11_col2\" class=\"data row11 col2\" >0.8105</td>\n",
       "      <td id=\"T_965e8_row11_col3\" class=\"data row11 col3\" >0.7155</td>\n",
       "      <td id=\"T_965e8_row11_col4\" class=\"data row11 col4\" >0.5051</td>\n",
       "      <td id=\"T_965e8_row11_col5\" class=\"data row11 col5\" >0.5916</td>\n",
       "      <td id=\"T_965e8_row11_col6\" class=\"data row11 col6\" >0.4075</td>\n",
       "      <td id=\"T_965e8_row11_col7\" class=\"data row11 col7\" >0.4215</td>\n",
       "      <td id=\"T_965e8_row11_col8\" class=\"data row11 col8\" >0.0040</td>\n",
       "    </tr>\n",
       "    <tr>\n",
       "      <th id=\"T_965e8_level0_row12\" class=\"row_heading level0 row12\" >dummy</th>\n",
       "      <td id=\"T_965e8_row12_col0\" class=\"data row12 col0\" >Dummy Classifier</td>\n",
       "      <td id=\"T_965e8_row12_col1\" class=\"data row12 col1\" >0.7347</td>\n",
       "      <td id=\"T_965e8_row12_col2\" class=\"data row12 col2\" >0.5000</td>\n",
       "      <td id=\"T_965e8_row12_col3\" class=\"data row12 col3\" >0.0000</td>\n",
       "      <td id=\"T_965e8_row12_col4\" class=\"data row12 col4\" >0.0000</td>\n",
       "      <td id=\"T_965e8_row12_col5\" class=\"data row12 col5\" >0.0000</td>\n",
       "      <td id=\"T_965e8_row12_col6\" class=\"data row12 col6\" >0.0000</td>\n",
       "      <td id=\"T_965e8_row12_col7\" class=\"data row12 col7\" >0.0000</td>\n",
       "      <td id=\"T_965e8_row12_col8\" class=\"data row12 col8\" >0.0040</td>\n",
       "    </tr>\n",
       "    <tr>\n",
       "      <th id=\"T_965e8_level0_row13\" class=\"row_heading level0 row13\" >dt</th>\n",
       "      <td id=\"T_965e8_row13_col0\" class=\"data row13 col0\" >Decision Tree Classifier</td>\n",
       "      <td id=\"T_965e8_row13_col1\" class=\"data row13 col1\" >0.7264</td>\n",
       "      <td id=\"T_965e8_row13_col2\" class=\"data row13 col2\" >0.6574</td>\n",
       "      <td id=\"T_965e8_row13_col3\" class=\"data row13 col3\" >0.4992</td>\n",
       "      <td id=\"T_965e8_row13_col4\" class=\"data row13 col4\" >0.4852</td>\n",
       "      <td id=\"T_965e8_row13_col5\" class=\"data row13 col5\" >0.4917</td>\n",
       "      <td id=\"T_965e8_row13_col6\" class=\"data row13 col6\" >0.3047</td>\n",
       "      <td id=\"T_965e8_row13_col7\" class=\"data row13 col7\" >0.3050</td>\n",
       "      <td id=\"T_965e8_row13_col8\" class=\"data row13 col8\" >0.0050</td>\n",
       "    </tr>\n",
       "  </tbody>\n",
       "</table>\n"
      ],
      "text/plain": [
       "<pandas.io.formats.style.Styler at 0x32b36c070>"
      ]
     },
     "metadata": {},
     "output_type": "display_data"
    },
    {
     "data": {
      "text/html": [],
      "text/plain": [
       "<IPython.core.display.HTML object>"
      ]
     },
     "metadata": {},
     "output_type": "display_data"
    }
   ],
   "source": [
    "# have pycaret compare models\n",
    "best_model = compare_models()"
   ]
  },
  {
   "cell_type": "code",
   "execution_count": 6,
   "id": "3779ea67",
   "metadata": {},
   "outputs": [
    {
     "name": "stdout",
     "output_type": "stream",
     "text": [
      "Transformation Pipeline and Model Successfully Saved\n"
     ]
    }
   ],
   "source": [
    "# save best model using the class name as the filename... this will make subsequent trials touch-free\n",
    "model_name = best_model.__class__.__name__\n",
    "save_model(best_model, model_name)"
   ]
  },
  {
   "cell_type": "code",
   "execution_count": 7,
   "id": "f615f45f",
   "metadata": {},
   "outputs": [
    {
     "name": "stdout",
     "output_type": "stream",
     "text": [
      "Transformation Pipeline and Model Successfully Loaded\n"
     ]
    }
   ],
   "source": [
    "# load the pickled model\n",
    "loaded_model =load_model(model_name)\n",
    "loaded_model"
   ]
  },
  {
   "cell_type": "code",
   "execution_count": 8,
   "id": "1867850b",
   "metadata": {},
   "outputs": [
    {
     "data": {
      "text/html": [],
      "text/plain": [
       "<IPython.core.display.HTML object>"
      ]
     },
     "metadata": {},
     "output_type": "display_data"
    },
    {
     "data": {
      "text/html": [
       "<div>\n",
       "<style scoped>\n",
       "    .dataframe tbody tr th:only-of-type {\n",
       "        vertical-align: middle;\n",
       "    }\n",
       "\n",
       "    .dataframe tbody tr th {\n",
       "        vertical-align: top;\n",
       "    }\n",
       "\n",
       "    .dataframe thead th {\n",
       "        text-align: right;\n",
       "    }\n",
       "</style>\n",
       "<table border=\"1\" class=\"dataframe\">\n",
       "  <thead>\n",
       "    <tr style=\"text-align: right;\">\n",
       "      <th></th>\n",
       "      <th>tenure</th>\n",
       "      <th>PhoneService</th>\n",
       "      <th>Contract</th>\n",
       "      <th>PaymentMethod</th>\n",
       "      <th>MonthlyCharges</th>\n",
       "      <th>TotalCharges</th>\n",
       "      <th>charge_per_tenure</th>\n",
       "      <th>prediction_label</th>\n",
       "      <th>prediction_score</th>\n",
       "    </tr>\n",
       "    <tr>\n",
       "      <th>customerID</th>\n",
       "      <th></th>\n",
       "      <th></th>\n",
       "      <th></th>\n",
       "      <th></th>\n",
       "      <th></th>\n",
       "      <th></th>\n",
       "      <th></th>\n",
       "      <th></th>\n",
       "      <th></th>\n",
       "    </tr>\n",
       "  </thead>\n",
       "  <tbody>\n",
       "    <tr>\n",
       "      <th>8361-LTMKD</th>\n",
       "      <td>4.0</td>\n",
       "      <td>1</td>\n",
       "      <td>0</td>\n",
       "      <td>2</td>\n",
       "      <td>74.400002</td>\n",
       "      <td>306.600006</td>\n",
       "      <td>76.650002</td>\n",
       "      <td>1</td>\n",
       "      <td>0.5695</td>\n",
       "    </tr>\n",
       "  </tbody>\n",
       "</table>\n",
       "</div>"
      ],
      "text/plain": [
       "            tenure  PhoneService  Contract  PaymentMethod  MonthlyCharges  \\\n",
       "customerID                                                                  \n",
       "8361-LTMKD     4.0             1         0              2       74.400002   \n",
       "\n",
       "            TotalCharges  charge_per_tenure  prediction_label  \\\n",
       "customerID                                                      \n",
       "8361-LTMKD    306.600006          76.650002                 1   \n",
       "\n",
       "            prediction_score  \n",
       "customerID                    \n",
       "8361-LTMKD            0.5695  "
      ]
     },
     "execution_count": 8,
     "metadata": {},
     "output_type": "execute_result"
    }
   ],
   "source": [
    "# test the loaded model by making a prediction on unseen data\n",
    "unseen_data = df.copy()\n",
    "unseen_data = unseen_data.drop('Churn', axis=1)\n",
    "predict_model(loaded_model, data=unseen_data.iloc[-2:-1])"
   ]
  },
  {
   "cell_type": "code",
   "execution_count": 9,
   "id": "2c011d8b",
   "metadata": {},
   "outputs": [
    {
     "data": {
      "text/html": [
       "<div>\n",
       "<style scoped>\n",
       "    .dataframe tbody tr th:only-of-type {\n",
       "        vertical-align: middle;\n",
       "    }\n",
       "\n",
       "    .dataframe tbody tr th {\n",
       "        vertical-align: top;\n",
       "    }\n",
       "\n",
       "    .dataframe thead th {\n",
       "        text-align: right;\n",
       "    }\n",
       "</style>\n",
       "<table border=\"1\" class=\"dataframe\">\n",
       "  <thead>\n",
       "    <tr style=\"text-align: right;\">\n",
       "      <th></th>\n",
       "      <th>tenure</th>\n",
       "      <th>PhoneService</th>\n",
       "      <th>Contract</th>\n",
       "      <th>PaymentMethod</th>\n",
       "      <th>MonthlyCharges</th>\n",
       "      <th>TotalCharges</th>\n",
       "      <th>Churn</th>\n",
       "      <th>charge_per_tenure</th>\n",
       "    </tr>\n",
       "    <tr>\n",
       "      <th>customerID</th>\n",
       "      <th></th>\n",
       "      <th></th>\n",
       "      <th></th>\n",
       "      <th></th>\n",
       "      <th></th>\n",
       "      <th></th>\n",
       "      <th></th>\n",
       "      <th></th>\n",
       "    </tr>\n",
       "  </thead>\n",
       "  <tbody>\n",
       "    <tr>\n",
       "      <th>8361-LTMKD</th>\n",
       "      <td>4.0</td>\n",
       "      <td>1</td>\n",
       "      <td>0</td>\n",
       "      <td>2</td>\n",
       "      <td>74.4</td>\n",
       "      <td>306.6</td>\n",
       "      <td>1</td>\n",
       "      <td>76.65</td>\n",
       "    </tr>\n",
       "  </tbody>\n",
       "</table>\n",
       "</div>"
      ],
      "text/plain": [
       "            tenure  PhoneService  Contract  PaymentMethod  MonthlyCharges  \\\n",
       "customerID                                                                  \n",
       "8361-LTMKD     4.0             1         0              2            74.4   \n",
       "\n",
       "            TotalCharges  Churn  charge_per_tenure  \n",
       "customerID                                          \n",
       "8361-LTMKD         306.6      1              76.65  "
      ]
     },
     "execution_count": 9,
     "metadata": {},
     "output_type": "execute_result"
    }
   ],
   "source": [
    "# vefify the prediction\n",
    "df.iloc[-2:-1]"
   ]
  },
  {
   "cell_type": "code",
   "execution_count": 11,
   "id": "19c6a4b3",
   "metadata": {},
   "outputs": [
    {
     "name": "stdout",
     "output_type": "stream",
     "text": [
      "Transformation Pipeline and Model Successfully Loaded\n"
     ]
    },
    {
     "data": {
      "text/html": [],
      "text/plain": [
       "<IPython.core.display.HTML object>"
      ]
     },
     "metadata": {},
     "output_type": "display_data"
    },
    {
     "name": "stdout",
     "output_type": "stream",
     "text": [
      "            Label   Score\n",
      "customerID               \n",
      "9305-CKSKC      1  0.5120\n",
      "1452-KNGVK      1  0.5956\n",
      "6723-OKKJM      0  0.9388\n",
      "7832-POPKP      0  0.8249\n",
      "6348-TACGU      1  0.7029\n"
     ]
    }
   ],
   "source": [
    "# load libraries from python file\n",
    "from predict_churn import make_prediction\n",
    "\n",
    "# load unseen data from a prepared file\n",
    "new_data = pd.read_csv('./data/new_churn_data.csv', index_col='customerID')\n",
    "\n",
    "# make the prediction and print the result\n",
    "print( make_prediction(new_data, model_name) )"
   ]
  },
  {
   "cell_type": "markdown",
   "id": "c49db562",
   "metadata": {},
   "source": [
    "# Summary"
   ]
  },
  {
   "cell_type": "markdown",
   "id": "2d518d21",
   "metadata": {},
   "source": [
    "In this exercise, we are using pycaret to automate machine learning tasks. \n",
    "\n",
    "After loading the data, I initialized PyCaret with the 'setup' function.  I passed it the training and test data, and the target variable.  PyCaret has functions for preprocessing data, but I'm opting not to use them because we've already preprocessed the data in week 2.  I also invoke the ignore_features parameter so that CustomerID was not evaluated in the models.  In past exercises, I dropped that column before training my models... it's nice to have the ignore option.\n",
    "\n",
    "I then have PyCaret evaluate and compare multiple models, sorting by accuracy (the default).\n",
    "\n",
    "\n"
   ]
  },
  {
   "cell_type": "markdown",
   "id": "9533a1cd",
   "metadata": {},
   "source": [
    "Write a short summary of the process and results here."
   ]
  }
 ],
 "metadata": {
  "kernelspec": {
   "display_name": "Python 3",
   "language": "python",
   "name": "python3"
  },
  "language_info": {
   "codemirror_mode": {
    "name": "ipython",
    "version": 3
   },
   "file_extension": ".py",
   "mimetype": "text/x-python",
   "name": "python",
   "nbconvert_exporter": "python",
   "pygments_lexer": "ipython3",
   "version": "3.10.15"
  }
 },
 "nbformat": 4,
 "nbformat_minor": 5
}
