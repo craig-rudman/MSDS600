{
 "cells": [
  {
   "cell_type": "markdown",
   "id": "da97052f",
   "metadata": {},
   "source": [
    "# Week 8 assignment: NLP on social media data\n",
    "\n",
    "Take our social media we collected last week and:\n",
    "\n",
    "- extract the sentiment scores of the titles of the posts\n",
    "    - you can use the keyword method, Python packages, or other methods to extract the sentiment scores\n",
    "- plot a histogram of the sentiment scores\n",
    "- look at descriptive statistics (mean, median, standard deviation) of the sentiment scores\n",
    "- examine the text for some of the highest and lowest sentiment scores\n",
    "- write a short analysis of the results and our process, as well as propose one idea for something we could use this data for\n",
    "\n",
    "Optional advanced challenges:\n",
    "- Compare different sentiment analysis methods (e.g. textblob and VADER). Does one seem to work better than another?\n",
    "- Get the sentiments of the comments for each post. We can do a lot with this, such as:\n",
    "    - look at the average sentiment for each post and compare it with the sentiment of the title and/or text\n",
    "    - look at the distribution of sentiments for each post and find the posts with the widest range of sentiments (controversial posts)\n",
    "- Examine the subjectivity of our data (e.g. using textblob)\n",
    "- Use topic modeling on the posts\n",
    "    - you can also add in the comments to the topic model\n",
    "- Look at the most frequent words for positive and negative sentiment posts\n",
    "\n",
    "Note: There is no assignment solution file for this week."
   ]
  },
  {
   "cell_type": "code",
   "execution_count": 1,
   "id": "e5e84e50",
   "metadata": {},
   "outputs": [],
   "source": [
    "# import libraries\n",
    "import pandas as pd\n",
    "import matplotlib.pyplot as plt\n",
    "import sqlite3\n",
    "from vaderSentiment.vaderSentiment import SentimentIntensityAnalyzer"
   ]
  },
  {
   "cell_type": "code",
   "execution_count": 2,
   "id": "4350601d",
   "metadata": {},
   "outputs": [
    {
     "name": "stdout",
     "output_type": "stream",
     "text": [
      "('I Heart Top 39 - Watcha’ Want',)\n",
      "('I have 2 GA tickets available for the Denver show tomorrow night.',)\n",
      "('2000+ Subscriber Video AMA!',)\n",
      "('Two tickets for Salt Lake tonight.',)\n",
      "(\"This chaotic viral song is dividing TikTok and people are beefing over if it's great or terrible\",)\n",
      "('Minnesota',)\n",
      "('Columbus Resale Prices',)\n",
      "('YouTube music recognizing my Lawrence addiction ',)\n",
      "('Anyone down for a dress up theme for Denver night?? 10/19',)\n",
      "('Is there an opening act for the Family Business tour?',)\n"
     ]
    }
   ],
   "source": [
    "# connect to database and verify contents\n",
    "conn = sqlite3.connect('./data/LawrenceTheFans.db')\n",
    "cursor = conn.cursor()\n",
    "for row in cursor.execute(\"SELECT title FROM posts ORDER BY created_utc DESC LIMIT 10\"):\n",
    "    print(row)\n",
    "\n",
    "conn.close()"
   ]
  },
  {
   "cell_type": "code",
   "execution_count": 3,
   "id": "1eb24ed7",
   "metadata": {},
   "outputs": [],
   "source": [
    "# connect to database and create dataframes for each table\n",
    "conn = sqlite3.connect('./data/LawrenceTheFans.db')\n",
    "cursor = conn.cursor()\n",
    "\n",
    "df_posts = pd.read_sql_query(\"SELECT * FROM posts\", conn)\n",
    "df_comments = pd.read_sql_query(\"SELECT * FROM comments\", conn)\n",
    "\n",
    "conn.close()\n",
    "\n"
   ]
  },
  {
   "cell_type": "code",
   "execution_count": 4,
   "id": "04a965fc",
   "metadata": {},
   "outputs": [
    {
     "name": "stdout",
     "output_type": "stream",
     "text": [
      "<class 'pandas.core.frame.DataFrame'>\n",
      "RangeIndex: 612 entries, 0 to 611\n",
      "Data columns (total 8 columns):\n",
      " #   Column        Non-Null Count  Dtype \n",
      "---  ------        --------------  ----- \n",
      " 0   id            612 non-null    object\n",
      " 1   author        612 non-null    object\n",
      " 2   title         612 non-null    object\n",
      " 3   created_utc   612 non-null    int64 \n",
      " 4   permalink     612 non-null    object\n",
      " 5   score         612 non-null    int64 \n",
      " 6   num_comments  612 non-null    int64 \n",
      " 7   url           612 non-null    object\n",
      "dtypes: int64(3), object(5)\n",
      "memory usage: 38.4+ KB\n"
     ]
    }
   ],
   "source": [
    "# verify dataframes\n",
    "df_posts.info()"
   ]
  },
  {
   "cell_type": "code",
   "execution_count": 5,
   "id": "8bb8a005",
   "metadata": {},
   "outputs": [
    {
     "name": "stdout",
     "output_type": "stream",
     "text": [
      "<class 'pandas.core.frame.DataFrame'>\n",
      "RangeIndex: 1076 entries, 0 to 1075\n",
      "Data columns (total 8 columns):\n",
      " #   Column         Non-Null Count  Dtype \n",
      "---  ------         --------------  ----- \n",
      " 0   id             1076 non-null   object\n",
      " 1   submission_id  1076 non-null   object\n",
      " 2   parent_id      1076 non-null   object\n",
      " 3   created_utc    1076 non-null   int64 \n",
      " 4   author         1076 non-null   object\n",
      " 5   permalink      1076 non-null   object\n",
      " 6   score          1076 non-null   int64 \n",
      " 7   body           1076 non-null   object\n",
      "dtypes: int64(2), object(6)\n",
      "memory usage: 67.4+ KB\n"
     ]
    }
   ],
   "source": [
    "df_comments.info()"
   ]
  },
  {
   "cell_type": "code",
   "execution_count": 6,
   "id": "fb2daba0",
   "metadata": {},
   "outputs": [
    {
     "data": {
      "text/plain": [
       "0.10027679738562091"
      ]
     },
     "execution_count": 6,
     "metadata": {},
     "output_type": "execute_result"
    }
   ],
   "source": [
    "# Apply Vader Sentiment Analysis to each post's title\n",
    "analyzer = SentimentIntensityAnalyzer()\n",
    "df_posts['sentiment_object'] = [analyzer.polarity_scores(i) for i in df_posts['title']]\n",
    "df_posts['sentiment'] = [analyzer.polarity_scores(i)['compound'] for i in df_posts['title']]\n",
    "df_posts['sentiment'].mean()\n"
   ]
  },
  {
   "cell_type": "code",
   "execution_count": 7,
   "id": "e9bfe0cd",
   "metadata": {},
   "outputs": [
    {
     "data": {
      "text/plain": [
       "0.33013615241635685"
      ]
     },
     "execution_count": 7,
     "metadata": {},
     "output_type": "execute_result"
    }
   ],
   "source": [
    "# Apply Vader Sentiment Analysis to each comment's title\n",
    "analyzer = SentimentIntensityAnalyzer()    \n",
    "df_comments['sentiment_object'] = [analyzer.polarity_scores(c) for c in df_comments['body']]\n",
    "df_comments['sentiment'] = [analyzer.polarity_scores(i)['compound'] for i in df_comments['body']]\n",
    "df_comments['sentiment'].mean()"
   ]
  },
  {
   "cell_type": "code",
   "execution_count": 8,
   "id": "6b7f397d",
   "metadata": {},
   "outputs": [
    {
     "name": "stdout",
     "output_type": "stream",
     "text": [
      "<class 'pandas.core.frame.DataFrame'>\n",
      "RangeIndex: 1076 entries, 0 to 1075\n",
      "Data columns (total 10 columns):\n",
      " #   Column            Non-Null Count  Dtype  \n",
      "---  ------            --------------  -----  \n",
      " 0   id                1076 non-null   object \n",
      " 1   submission_id     1076 non-null   object \n",
      " 2   parent_id         1076 non-null   object \n",
      " 3   created_utc       1076 non-null   int64  \n",
      " 4   author            1076 non-null   object \n",
      " 5   permalink         1076 non-null   object \n",
      " 6   score             1076 non-null   int64  \n",
      " 7   body              1076 non-null   object \n",
      " 8   sentiment_object  1076 non-null   object \n",
      " 9   sentiment         1076 non-null   float64\n",
      "dtypes: float64(1), int64(2), object(7)\n",
      "memory usage: 84.2+ KB\n"
     ]
    }
   ],
   "source": [
    "df_comments.info()"
   ]
  },
  {
   "cell_type": "code",
   "execution_count": 9,
   "id": "85228e13",
   "metadata": {},
   "outputs": [
    {
     "data": {
      "image/png": "[encoded data removed]",
      "text/plain": [
       "<Figure size 640x480 with 1 Axes>"
      ]
     },
     "metadata": {},
     "output_type": "display_data"
    }
   ],
   "source": [
    "# plot histograms of sentiment scores\n",
    "df_posts['sentiment'].hist( alpha = .5 )\n",
    "df_comments['sentiment'].hist (alpha= .5)\n",
    "\n",
    "plt.xlabel('Sentiment')\n",
    "plt.ylabel('Count')\n",
    "plt.title('Sentiment Scores')\n",
    "# add a legend\n",
    "plt.legend( ['title', 'comment'])\n",
    "plt.tight_layout()\n",
    "plt.show()"
   ]
  },
  {
   "cell_type": "code",
   "execution_count": 10,
   "id": "bd763819",
   "metadata": {},
   "outputs": [
    {
     "name": "stdout",
     "output_type": "stream",
     "text": [
      "Sentiment Scores: Post titles\n",
      "count    612.000000\n",
      "mean       0.100277\n",
      "std        0.289240\n",
      "min       -0.759700\n",
      "25%        0.000000\n",
      "50%        0.000000\n",
      "75%        0.202300\n",
      "max        0.944500\n",
      "Name: sentiment, dtype: float64\n",
      "\n",
      "\n",
      "Sentiment Scores: Comments\n",
      "count    1076.000000\n",
      "mean        0.330136\n",
      "std         0.442535\n",
      "min        -0.959500\n",
      "25%         0.000000\n",
      "50%         0.419900\n",
      "75%         0.717875\n",
      "max         0.995000\n",
      "Name: sentiment, dtype: float64\n"
     ]
    }
   ],
   "source": [
    "# Examine descriptive statistics of sentiment scores\n",
    "print( \"Sentiment Scores: Post titles\")\n",
    "print( df_posts['sentiment'].describe()) \n",
    "\n",
    "print( \"\\n\\nSentiment Scores: Comments\")\n",
    "print( df_comments['sentiment'].describe())"
   ]
  },
  {
   "cell_type": "code",
   "execution_count": 11,
   "id": "46db841f",
   "metadata": {},
   "outputs": [
    {
     "data": {
      "text/html": [
       "<div>\n",
       "<style scoped>\n",
       "    .dataframe tbody tr th:only-of-type {\n",
       "        vertical-align: middle;\n",
       "    }\n",
       "\n",
       "    .dataframe tbody tr th {\n",
       "        vertical-align: top;\n",
       "    }\n",
       "\n",
       "    .dataframe thead th {\n",
       "        text-align: right;\n",
       "    }\n",
       "</style>\n",
       "<table border=\"1\" class=\"dataframe\">\n",
       "  <thead>\n",
       "    <tr style=\"text-align: right;\">\n",
       "      <th></th>\n",
       "      <th>title</th>\n",
       "      <th>sentiment</th>\n",
       "    </tr>\n",
       "  </thead>\n",
       "  <tbody>\n",
       "    <tr>\n",
       "      <th>109</th>\n",
       "      <td>I know I’m supposed to try on the discord but haven’t really had luck. Anyone going to the Minneapolis show? I’d love to chat and maybe meet up! I’ll be there with my mom lol (I don’t know how to ask this without being weird)</td>\n",
       "      <td>0.9445</td>\n",
       "    </tr>\n",
       "    <tr>\n",
       "      <th>504</th>\n",
       "      <td>Me and a few friends had our final senior band concert get cancelled and we had wanted to play Do You Wanna Do Nothing With Me since like freshman year, so we felt like it was the perfect opportunity to do it virtually! So here is our cover of Do You Wanna Do Nothing With Me. Enjoy!</td>\n",
       "      <td>0.9220</td>\n",
       "    </tr>\n",
       "    <tr>\n",
       "      <th>390</th>\n",
       "      <td>Any Ohio fans here?? I just peeped Lawrence is headlining one of my favorite festivals at Legend Valley this summer! Soooo excited for this the Werk Out has the best vibes</td>\n",
       "      <td>0.9145</td>\n",
       "    </tr>\n",
       "    <tr>\n",
       "      <th>286</th>\n",
       "      <td>Anybody have ANY idea what happened to the live version of \"Alabi\" they played on that rooftop? I forget the YouTube page but I haven't been able to find that video for YEARS at this point and it was a fantastic performance. Way better than the studio version they have.</td>\n",
       "      <td>0.8750</td>\n",
       "    </tr>\n",
       "    <tr>\n",
       "      <th>500</th>\n",
       "      <td>Such a beautiful video. Great song and incredible arrangement. Bravo!</td>\n",
       "      <td>0.8516</td>\n",
       "    </tr>\n",
       "    <tr>\n",
       "      <th>...</th>\n",
       "      <td>...</td>\n",
       "      <td>...</td>\n",
       "    </tr>\n",
       "    <tr>\n",
       "      <th>579</th>\n",
       "      <td>\"Try\" should be turned into a hip hop beat for Hi Lo Jack -- my stab at it.</td>\n",
       "      <td>-0.5859</td>\n",
       "    </tr>\n",
       "    <tr>\n",
       "      <th>580</th>\n",
       "      <td>Clyde DESTROYS Gracie with him tambourine -- NSFW</td>\n",
       "      <td>-0.6523</td>\n",
       "    </tr>\n",
       "    <tr>\n",
       "      <th>471</th>\n",
       "      <td>😱</td>\n",
       "      <td>-0.7003</td>\n",
       "    </tr>\n",
       "    <tr>\n",
       "      <th>358</th>\n",
       "      <td>Clyde Lawrence singing Don’t Lose Sight while Gracie was out sick</td>\n",
       "      <td>-0.7184</td>\n",
       "    </tr>\n",
       "    <tr>\n",
       "      <th>68</th>\n",
       "      <td>They KILLED it in ATL!</td>\n",
       "      <td>-0.7597</td>\n",
       "    </tr>\n",
       "  </tbody>\n",
       "</table>\n",
       "<p>612 rows × 2 columns</p>\n",
       "</div>"
      ],
      "text/plain": [
       "                                                                                                                                                                                                                                                                                           title  \\\n",
       "109                                                            I know I’m supposed to try on the discord but haven’t really had luck. Anyone going to the Minneapolis show? I’d love to chat and maybe meet up! I’ll be there with my mom lol (I don’t know how to ask this without being weird)   \n",
       "504  Me and a few friends had our final senior band concert get cancelled and we had wanted to play Do You Wanna Do Nothing With Me since like freshman year, so we felt like it was the perfect opportunity to do it virtually! So here is our cover of Do You Wanna Do Nothing With Me. Enjoy!   \n",
       "390                                                                                                                  Any Ohio fans here?? I just peeped Lawrence is headlining one of my favorite festivals at Legend Valley this summer! Soooo excited for this the Werk Out has the best vibes   \n",
       "286               Anybody have ANY idea what happened to the live version of \"Alabi\" they played on that rooftop? I forget the YouTube page but I haven't been able to find that video for YEARS at this point and it was a fantastic performance. Way better than the studio version they have.   \n",
       "500                                                                                                                                                                                                                        Such a beautiful video. Great song and incredible arrangement. Bravo!   \n",
       "..                                                                                                                                                                                                                                                                                           ...   \n",
       "579                                                                                                                                                                                                                  \"Try\" should be turned into a hip hop beat for Hi Lo Jack -- my stab at it.   \n",
       "580                                                                                                                                                                                                                                            Clyde DESTROYS Gracie with him tambourine -- NSFW   \n",
       "471                                                                                                                                                                                                                                                                                            😱   \n",
       "358                                                                                                                                                                                                                            Clyde Lawrence singing Don’t Lose Sight while Gracie was out sick   \n",
       "68                                                                                                                                                                                                                                                                       They KILLED it in ATL!    \n",
       "\n",
       "     sentiment  \n",
       "109     0.9445  \n",
       "504     0.9220  \n",
       "390     0.9145  \n",
       "286     0.8750  \n",
       "500     0.8516  \n",
       "..         ...  \n",
       "579    -0.5859  \n",
       "580    -0.6523  \n",
       "471    -0.7003  \n",
       "358    -0.7184  \n",
       "68     -0.7597  \n",
       "\n",
       "[612 rows x 2 columns]"
      ]
     },
     "execution_count": 11,
     "metadata": {},
     "output_type": "execute_result"
    }
   ],
   "source": [
    "# posts with highest and lowest sentiment scores\n",
    "pd.options.display.max_colwidth = None\n",
    "df_posts.sort_values('sentiment', ascending = False)[['title', 'sentiment']]\n"
   ]
  },
  {
   "cell_type": "code",
   "execution_count": 12,
   "id": "2d66fd55",
   "metadata": {},
   "outputs": [
    {
     "data": {
      "text/html": [
       "<div>\n",
       "<style scoped>\n",
       "    .dataframe tbody tr th:only-of-type {\n",
       "        vertical-align: middle;\n",
       "    }\n",
       "\n",
       "    .dataframe tbody tr th {\n",
       "        vertical-align: top;\n",
       "    }\n",
       "\n",
       "    .dataframe thead th {\n",
       "        text-align: right;\n",
       "    }\n",
       "</style>\n",
       "<table border=\"1\" class=\"dataframe\">\n",
       "  <thead>\n",
       "    <tr style=\"text-align: right;\">\n",
       "      <th></th>\n",
       "      <th>title</th>\n",
       "      <th>sentiment</th>\n",
       "    </tr>\n",
       "  </thead>\n",
       "  <tbody>\n",
       "    <tr>\n",
       "      <th>526</th>\n",
       "      <td>Potential source of voicings for So Damn Fast</td>\n",
       "      <td>-0.5410</td>\n",
       "    </tr>\n",
       "    <tr>\n",
       "      <th>540</th>\n",
       "      <td>Piano tutorial for So Damn Fast?</td>\n",
       "      <td>-0.5410</td>\n",
       "    </tr>\n",
       "    <tr>\n",
       "      <th>443</th>\n",
       "      <td>ICYMI: Lawrence x Scary Pockets!</td>\n",
       "      <td>-0.5411</td>\n",
       "    </tr>\n",
       "    <tr>\n",
       "      <th>495</th>\n",
       "      <td>Lawrence discord - chat with fans and Linus Lawrence himself!!!</td>\n",
       "      <td>-0.5538</td>\n",
       "    </tr>\n",
       "    <tr>\n",
       "      <th>412</th>\n",
       "      <td>Does anyone know the chords for “don’t lose sight”????</td>\n",
       "      <td>-0.5661</td>\n",
       "    </tr>\n",
       "    <tr>\n",
       "      <th>579</th>\n",
       "      <td>\"Try\" should be turned into a hip hop beat for Hi Lo Jack -- my stab at it.</td>\n",
       "      <td>-0.5859</td>\n",
       "    </tr>\n",
       "    <tr>\n",
       "      <th>580</th>\n",
       "      <td>Clyde DESTROYS Gracie with him tambourine -- NSFW</td>\n",
       "      <td>-0.6523</td>\n",
       "    </tr>\n",
       "    <tr>\n",
       "      <th>471</th>\n",
       "      <td>😱</td>\n",
       "      <td>-0.7003</td>\n",
       "    </tr>\n",
       "    <tr>\n",
       "      <th>358</th>\n",
       "      <td>Clyde Lawrence singing Don’t Lose Sight while Gracie was out sick</td>\n",
       "      <td>-0.7184</td>\n",
       "    </tr>\n",
       "    <tr>\n",
       "      <th>68</th>\n",
       "      <td>They KILLED it in ATL!</td>\n",
       "      <td>-0.7597</td>\n",
       "    </tr>\n",
       "  </tbody>\n",
       "</table>\n",
       "</div>"
      ],
      "text/plain": [
       "                                                                           title  \\\n",
       "526                                Potential source of voicings for So Damn Fast   \n",
       "540                                             Piano tutorial for So Damn Fast?   \n",
       "443                                             ICYMI: Lawrence x Scary Pockets!   \n",
       "495              Lawrence discord - chat with fans and Linus Lawrence himself!!!   \n",
       "412                       Does anyone know the chords for “don’t lose sight”????   \n",
       "579  \"Try\" should be turned into a hip hop beat for Hi Lo Jack -- my stab at it.   \n",
       "580                            Clyde DESTROYS Gracie with him tambourine -- NSFW   \n",
       "471                                                                            😱   \n",
       "358            Clyde Lawrence singing Don’t Lose Sight while Gracie was out sick   \n",
       "68                                                       They KILLED it in ATL!    \n",
       "\n",
       "     sentiment  \n",
       "526    -0.5410  \n",
       "540    -0.5410  \n",
       "443    -0.5411  \n",
       "495    -0.5538  \n",
       "412    -0.5661  \n",
       "579    -0.5859  \n",
       "580    -0.6523  \n",
       "471    -0.7003  \n",
       "358    -0.7184  \n",
       "68     -0.7597  "
      ]
     },
     "execution_count": 12,
     "metadata": {},
     "output_type": "execute_result"
    }
   ],
   "source": [
    "# comments with the highest and lowest sentiment scores\n",
    "pd.options.display.max_colwidth = None\n",
    "df_posts.sort_values('sentiment', ascending = False)[['title', 'sentiment']].tail(10)"
   ]
  },
  {
   "cell_type": "code",
   "execution_count": 13,
   "id": "5615f796",
   "metadata": {},
   "outputs": [
    {
     "data": {
      "text/html": [
       "<div>\n",
       "<style scoped>\n",
       "    .dataframe tbody tr th:only-of-type {\n",
       "        vertical-align: middle;\n",
       "    }\n",
       "\n",
       "    .dataframe tbody tr th {\n",
       "        vertical-align: top;\n",
       "    }\n",
       "\n",
       "    .dataframe thead th {\n",
       "        text-align: right;\n",
       "    }\n",
       "</style>\n",
       "<table border=\"1\" class=\"dataframe\">\n",
       "  <thead>\n",
       "    <tr style=\"text-align: right;\">\n",
       "      <th></th>\n",
       "      <th>body</th>\n",
       "      <th>sentiment</th>\n",
       "    </tr>\n",
       "  </thead>\n",
       "  <tbody>\n",
       "    <tr>\n",
       "      <th>156</th>\n",
       "      <td>I've got a few that stick with me since I started listening to Lawrence after it coming up while listening to music with my (now 6 y/o) daughter. I went to my first Lawrence concert, and her first ever concert, at Radio City Music Hall, so I hold these lyrics close:\\n\\n#1 - 23 - \"Waiting, I'm waiting. Mice are complaining\"\\n\\nYes, mice are complaining. She was 5 and that's what she heard and sang so it's adorable. She now knows that it's \"might start\" but I can't help but sing \"mice are\" instead.\\n\\nThe next one is two lines from same song.\\n\\n#2 - Funeral - \"And my father couldn't hold me\"\\n\\nGiven what I wrote above about Lawrence and how I connect the band closely to my daughter, this hits me hard. The whole song really, but that line a lot. The other line from this song that means a lot is\\n\\n\"And the words I should have spoken\" \\n\\nThis line for two reasons. One, it's how my daughter refers to the song when she wants it played, asking for \"should have spoken.\" But also, while it's straightforward, it's also such an honest and raw feeling that I think everyone understands. As I get older, time flies by faster and faster. You don't see people as much. You might talk to some people once a week, once a month, maybe only once a year. You don't know when the last time will be. Tell the people around you that you love them. Life is too short.\\n\\nLastly, I just have to throw this out there too.\\n\\n#3 - Guy I Used To Be the leading line and title of the track \"Goodbye to the guy I used to be.\" \\n\\nHonestly, the entire chorus. This is such a clever song because it's written open ended. I imagine it's a love song for Clyde. Or at least, it's interpreted that way for most I'd think. For me? I guess you could still call it that but I think of it in terms of my transition to becoming a father. Not just for my aforementioned older daughter, but my younger one as well, and being there for my wife too. My dreams and desires have changed. They are the only things that matter to me.\\n \\nAnyhow, it's really kind of you to do this give away. It would be awesome to win! But good luck to everyone!</td>\n",
       "      <td>0.9950</td>\n",
       "    </tr>\n",
       "    <tr>\n",
       "      <th>765</th>\n",
       "      <td>As everyone else has mentioned Jon Bellion has really ramped up the amount of production on their newer albums. Lots of layered instrumentals and effects that bring it more in line with his style, but it's also clearly something they're into.\\n\\nI think a big reason for this is they're REALLY trying to crossover and capture a larger mainstream/radio audience while still staying true to their sound/vibe. Personally I think they're doing a good job at that.  Their new stuff definitely sounds more radio friendly, but it also still sounds 100% like Lawrence to me.  Just Lawrence with a pop producer throwing some spice on it.\\n\\nI like both styles and I love that we get both versions.  The newer studio albums have the poppier, \"overproduced\" versions that are fun in their own way, and then their 'liveish\" versions and their live shows are more in line with their original sound which is much more stripped down and *authentic* for lack of a better term.  I guess I'm just lucky that I happen to enjoy both.</td>\n",
       "      <td>0.9943</td>\n",
       "    </tr>\n",
       "    <tr>\n",
       "      <th>103</th>\n",
       "      <td>hey! i went to their new orleans show yesterday, it was amazing! i went alone (i’ve been to about twenty concerts alone), the fans were all really kind but as someone who doesn’t really know how to talk to people, i just kept to myself but it really felt like a community… a family. i was a bit anxious waiting for the show to start but that’s typical me. once the show started it was really amazing!! i was front row, i didn’t wear earplugs but i recommend that anyone else does lol… it wasn’t as loud as other concerts i’ve been to but it was pretty loud!\\n\\nthe band was pretty interactive, and put on a great show of course! one of my favorite concerts! you’ll have a great time for sure.</td>\n",
       "      <td>0.9927</td>\n",
       "    </tr>\n",
       "    <tr>\n",
       "      <th>347</th>\n",
       "      <td>If someone tapes, please post or message me! Also, be awesome to collect all best recordings if no one recorded it all. \\n\\nThis was an amazing concert. Set list was incredible. \\n\\nIt was cool to hear them say this was where they saw their first concert. I brought my daughter and it's her first. It's really special to me so would love to have as many recordings as possible. Not even just the songs but the crowd work between songs was great too!\\n\\nSet List I remember right now. I might have mixed some of them up and probably missed a song. They did every Family Business song except Circle Back and Conflict Resolution. They played 1 cover and 6 or more songs from earlier records. All great choices. I was so happy to hear Many More.\\n\\nMain Office\\n- Family Business\\n- Do\\n- I'm confident I'm Insecure\\n- Casualty\\n- Freckle (crowd song choice between Shot, Make A Move and Freckle - each VIP folks chose off different albums)\\n- Guy I Used to Be\\n- BREAK for video of Jordan\\n- Hip Replacement\\n- Death of Me\\n- Funeral\\n\\nAcoustic Office\\n- Promotion\\n- Weather\\n- Something in the Water\\n\\n\\nMain Office\\n- So Damn Fast\\n- Get Busy (Sean Paul Cover)\\n- Many More\\n- 23\\n- Do You Wanna Do Nothing With Me?\\n- Don't Lose Sight\\n\\nEncore\\n- Heartburn\\n- Watcha Want\\n\\nThere was another break for \"logistics\" and a few other good Family Business videos too that were fun. They sang Happy Birthday to Marc too.</td>\n",
       "      <td>0.9877</td>\n",
       "    </tr>\n",
       "    <tr>\n",
       "      <th>753</th>\n",
       "      <td>They’re new album is definitely more over produced but that’s not necessarily a bad thing. It’s just different. They mentioned that some songs on the new album have like 200-400 layers/tracks but it seems like they’re trying to take their style and elevate it a bit. When they play shows though all the songs will sound more authentic. At the end of the day, it’s really cool to see how talented they are both live and in the studio. The Diner (Clyde, Jonny, Jordan) have been producing some great songs for other artists and it seems like they’ve really dived deep into the backend production and are updating Lawrence’s album sound. The essence of Lawrence is still there though!</td>\n",
       "      <td>0.9864</td>\n",
       "    </tr>\n",
       "    <tr>\n",
       "      <th>...</th>\n",
       "      <td>...</td>\n",
       "      <td>...</td>\n",
       "    </tr>\n",
       "    <tr>\n",
       "      <th>1044</th>\n",
       "      <td>Hate comes with fame, there is no way around it. Lawrence deserve the fame, I hope they can handle the haters, because they have real fans.\\n\\nLook at all the hate Taylor Swift is getting. Jacob Collier - the nicest guy possible - is the subject of ridicule in different communities. \\n\\nHaters are gonna hate.</td>\n",
       "      <td>-0.8750</td>\n",
       "    </tr>\n",
       "    <tr>\n",
       "      <th>170</th>\n",
       "      <td>If it's not:\\n\\nIt sucks\\nmy brain tells me to eat a bag of dicks\\nand I suck\\nat knowing when my mind is playing tricks \\n\\nthen I'll be damned. Truthfully, the whole song is so anthemic as to what it's like to deal with negative self talk, depression, anxiety, etc. Something I know all too well. This song really taught me how to take all those negative feelings and own them!!!</td>\n",
       "      <td>-0.8825</td>\n",
       "    </tr>\n",
       "    <tr>\n",
       "      <th>34</th>\n",
       "      <td>yoooo, what’s up!\\nquestion, for whatcha want, when they brought all other people on stage, the woman who had gotten engaged, was it just me or was she hitting some killer notes 😭 i swear she was hitting whistle notes lol… i was front row towards the right so the sound got a little muffled for that song and my phone died so i didn’t get any video of that song which sucks because it’s my favorite 😭</td>\n",
       "      <td>-0.9020</td>\n",
       "    </tr>\n",
       "    <tr>\n",
       "      <th>1018</th>\n",
       "      <td>I deleted my entire tiktok account because of how upset the Lawrence hate was making me. I was commenting on every video defending them, and because i was interacting with the hate videos, my feed was overfed with more Lawrence hate videos. and i literally deleted TikTok bc it made me so unhappy.</td>\n",
       "      <td>-0.9558</td>\n",
       "    </tr>\n",
       "    <tr>\n",
       "      <th>130</th>\n",
       "      <td>I still bawl every time I hear Don’t Lose Sight because it got me through a nightmare of a time in my life, so I’m going with “*This shit’s gonna kill me but I won’t let it; And I try to give ‘em hell but they don’t get it; So I tell myself when I sleep at night; Don’t lose sight, baby, don’t lose sight*”.</td>\n",
       "      <td>-0.9595</td>\n",
       "    </tr>\n",
       "  </tbody>\n",
       "</table>\n",
       "<p>1076 rows × 2 columns</p>\n",
       "</div>"
      ],
      "text/plain": [
       "                                                                                                                                                                                                                                                                                                                                                                                                                                                                                                                                                                                                                                                                                                                                                                                                                                                                                                                                                                                                                                                                                                                                                                                                                                                                                                                                                                                                                                                                                                                                                                                                                                                                                                                                                                                                                                                                                                                                                                                                                                                                                                                                                                                                      body  \\\n",
       "156   I've got a few that stick with me since I started listening to Lawrence after it coming up while listening to music with my (now 6 y/o) daughter. I went to my first Lawrence concert, and her first ever concert, at Radio City Music Hall, so I hold these lyrics close:\\n\\n#1 - 23 - \"Waiting, I'm waiting. Mice are complaining\"\\n\\nYes, mice are complaining. She was 5 and that's what she heard and sang so it's adorable. She now knows that it's \"might start\" but I can't help but sing \"mice are\" instead.\\n\\nThe next one is two lines from same song.\\n\\n#2 - Funeral - \"And my father couldn't hold me\"\\n\\nGiven what I wrote above about Lawrence and how I connect the band closely to my daughter, this hits me hard. The whole song really, but that line a lot. The other line from this song that means a lot is\\n\\n\"And the words I should have spoken\" \\n\\nThis line for two reasons. One, it's how my daughter refers to the song when she wants it played, asking for \"should have spoken.\" But also, while it's straightforward, it's also such an honest and raw feeling that I think everyone understands. As I get older, time flies by faster and faster. You don't see people as much. You might talk to some people once a week, once a month, maybe only once a year. You don't know when the last time will be. Tell the people around you that you love them. Life is too short.\\n\\nLastly, I just have to throw this out there too.\\n\\n#3 - Guy I Used To Be the leading line and title of the track \"Goodbye to the guy I used to be.\" \\n\\nHonestly, the entire chorus. This is such a clever song because it's written open ended. I imagine it's a love song for Clyde. Or at least, it's interpreted that way for most I'd think. For me? I guess you could still call it that but I think of it in terms of my transition to becoming a father. Not just for my aforementioned older daughter, but my younger one as well, and being there for my wife too. My dreams and desires have changed. They are the only things that matter to me.\\n \\nAnyhow, it's really kind of you to do this give away. It would be awesome to win! But good luck to everyone!   \n",
       "765                                                                                                                                                                                                                                                                                                                                                                                                                                                                                                                                                                                                                                                                                                                                                                                                                                                                                                                                                                                                                                                                                                                                                  As everyone else has mentioned Jon Bellion has really ramped up the amount of production on their newer albums. Lots of layered instrumentals and effects that bring it more in line with his style, but it's also clearly something they're into.\\n\\nI think a big reason for this is they're REALLY trying to crossover and capture a larger mainstream/radio audience while still staying true to their sound/vibe. Personally I think they're doing a good job at that.  Their new stuff definitely sounds more radio friendly, but it also still sounds 100% like Lawrence to me.  Just Lawrence with a pop producer throwing some spice on it.\\n\\nI like both styles and I love that we get both versions.  The newer studio albums have the poppier, \"overproduced\" versions that are fun in their own way, and then their 'liveish\" versions and their live shows are more in line with their original sound which is much more stripped down and *authentic* for lack of a better term.  I guess I'm just lucky that I happen to enjoy both.   \n",
       "103                                                                                                                                                                                                                                                                                                                                                                                                                                                                                                                                                                                                                                                                                                                                                                                                                                                                                                                                                                                                                                                                                                                                                                                                                                                                                                                                                                                                                                                                                   hey! i went to their new orleans show yesterday, it was amazing! i went alone (i’ve been to about twenty concerts alone), the fans were all really kind but as someone who doesn’t really know how to talk to people, i just kept to myself but it really felt like a community… a family. i was a bit anxious waiting for the show to start but that’s typical me. once the show started it was really amazing!! i was front row, i didn’t wear earplugs but i recommend that anyone else does lol… it wasn’t as loud as other concerts i’ve been to but it was pretty loud!\\n\\nthe band was pretty interactive, and put on a great show of course! one of my favorite concerts! you’ll have a great time for sure.   \n",
       "347                                                                                                                                                                                                                                                                                                                                                                                                                                                                                                                                                                                                                                                                                                                            If someone tapes, please post or message me! Also, be awesome to collect all best recordings if no one recorded it all. \\n\\nThis was an amazing concert. Set list was incredible. \\n\\nIt was cool to hear them say this was where they saw their first concert. I brought my daughter and it's her first. It's really special to me so would love to have as many recordings as possible. Not even just the songs but the crowd work between songs was great too!\\n\\nSet List I remember right now. I might have mixed some of them up and probably missed a song. They did every Family Business song except Circle Back and Conflict Resolution. They played 1 cover and 6 or more songs from earlier records. All great choices. I was so happy to hear Many More.\\n\\nMain Office\\n- Family Business\\n- Do\\n- I'm confident I'm Insecure\\n- Casualty\\n- Freckle (crowd song choice between Shot, Make A Move and Freckle - each VIP folks chose off different albums)\\n- Guy I Used to Be\\n- BREAK for video of Jordan\\n- Hip Replacement\\n- Death of Me\\n- Funeral\\n\\nAcoustic Office\\n- Promotion\\n- Weather\\n- Something in the Water\\n\\n\\nMain Office\\n- So Damn Fast\\n- Get Busy (Sean Paul Cover)\\n- Many More\\n- 23\\n- Do You Wanna Do Nothing With Me?\\n- Don't Lose Sight\\n\\nEncore\\n- Heartburn\\n- Watcha Want\\n\\nThere was another break for \"logistics\" and a few other good Family Business videos too that were fun. They sang Happy Birthday to Marc too.   \n",
       "753                                                                                                                                                                                                                                                                                                                                                                                                                                                                                                                                                                                                                                                                                                                                                                                                                                                                                                                                                                                                                                                                                                                                                                                                                                                                                                                                                                                                                                                                                              They’re new album is definitely more over produced but that’s not necessarily a bad thing. It’s just different. They mentioned that some songs on the new album have like 200-400 layers/tracks but it seems like they’re trying to take their style and elevate it a bit. When they play shows though all the songs will sound more authentic. At the end of the day, it’s really cool to see how talented they are both live and in the studio. The Diner (Clyde, Jonny, Jordan) have been producing some great songs for other artists and it seems like they’ve really dived deep into the backend production and are updating Lawrence’s album sound. The essence of Lawrence is still there though!   \n",
       "...                                                                                                                                                                                                                                                                                                                                                                                                                                                                                                                                                                                                                                                                                                                                                                                                                                                                                                                                                                                                                                                                                                                                                                                                                                                                                                                                                                                                                                                                                                                                                                                                                                                                                                                                                                                                                                                                                                                                                                                                                                                                                                                                                                                                    ...   \n",
       "1044                                                                                                                                                                                                                                                                                                                                                                                                                                                                                                                                                                                                                                                                                                                                                                                                                                                                                                                                                                                                                                                                                                                                                                                                                                                                                                                                                                                                                                                                                                                                                                                                                                                                                                                                                                                                                                                                                Hate comes with fame, there is no way around it. Lawrence deserve the fame, I hope they can handle the haters, because they have real fans.\\n\\nLook at all the hate Taylor Swift is getting. Jacob Collier - the nicest guy possible - is the subject of ridicule in different communities. \\n\\nHaters are gonna hate.   \n",
       "170                                                                                                                                                                                                                                                                                                                                                                                                                                                                                                                                                                                                                                                                                                                                                                                                                                                                                                                                                                                                                                                                                                                                                                                                                                                                                                                                                                                                                                                                                                                                                                                                                                                                                                                                                                                                          If it's not:\\n\\nIt sucks\\nmy brain tells me to eat a bag of dicks\\nand I suck\\nat knowing when my mind is playing tricks \\n\\nthen I'll be damned. Truthfully, the whole song is so anthemic as to what it's like to deal with negative self talk, depression, anxiety, etc. Something I know all too well. This song really taught me how to take all those negative feelings and own them!!!   \n",
       "34                                                                                                                                                                                                                                                                                                                                                                                                                                                                                                                                                                                                                                                                                                                                                                                                                                                                                                                                                                                                                                                                                                                                                                                                                                                                                                                                                                                                                                                                                                                                                                                                                                                                                                                                                                                        yoooo, what’s up!\\nquestion, for whatcha want, when they brought all other people on stage, the woman who had gotten engaged, was it just me or was she hitting some killer notes 😭 i swear she was hitting whistle notes lol… i was front row towards the right so the sound got a little muffled for that song and my phone died so i didn’t get any video of that song which sucks because it’s my favorite 😭   \n",
       "1018                                                                                                                                                                                                                                                                                                                                                                                                                                                                                                                                                                                                                                                                                                                                                                                                                                                                                                                                                                                                                                                                                                                                                                                                                                                                                                                                                                                                                                                                                                                                                                                                                                                                                                                                                                                                                                                                                             I deleted my entire tiktok account because of how upset the Lawrence hate was making me. I was commenting on every video defending them, and because i was interacting with the hate videos, my feed was overfed with more Lawrence hate videos. and i literally deleted TikTok bc it made me so unhappy.   \n",
       "130                                                                                                                                                                                                                                                                                                                                                                                                                                                                                                                                                                                                                                                                                                                                                                                                                                                                                                                                                                                                                                                                                                                                                                                                                                                                                                                                                                                                                                                                                                                                                                                                                                                                                                                                                                                                                                                                                    I still bawl every time I hear Don’t Lose Sight because it got me through a nightmare of a time in my life, so I’m going with “*This shit’s gonna kill me but I won’t let it; And I try to give ‘em hell but they don’t get it; So I tell myself when I sleep at night; Don’t lose sight, baby, don’t lose sight*”.   \n",
       "\n",
       "      sentiment  \n",
       "156      0.9950  \n",
       "765      0.9943  \n",
       "103      0.9927  \n",
       "347      0.9877  \n",
       "753      0.9864  \n",
       "...         ...  \n",
       "1044    -0.8750  \n",
       "170     -0.8825  \n",
       "34      -0.9020  \n",
       "1018    -0.9558  \n",
       "130     -0.9595  \n",
       "\n",
       "[1076 rows x 2 columns]"
      ]
     },
     "execution_count": 13,
     "metadata": {},
     "output_type": "execute_result"
    }
   ],
   "source": [
    "# comments with the highest and lowest sentiment scores\n",
    "pd.options.display.max_colwidth = None\n",
    "df_comments.sort_values('sentiment', ascending = False)[['body', 'sentiment']]"
   ]
  },
  {
   "cell_type": "markdown",
   "id": "236f9eda",
   "metadata": {},
   "source": [
    "# Summary"
   ]
  },
  {
   "cell_type": "markdown",
   "id": "c7d6282c",
   "metadata": {},
   "source": [
    "In this week's assignmment, I'm using data from a subreddit for fans of the band \"Lawrence\". Fans of the band are generally extremely upbeat and positive; they LOVE this band and we should expect posts and comments in this subreddit to skew positive.\n",
    "\n",
    "I began by importing libraries:\n",
    "* **pandas:** working with dataframes, accessing data stores, data analytics, and data visualization\n",
    "* **matplotlib:** data visualization\n",
    "* **sqlite3:** a lightweight, SQL compliant, disk-based database implemented in C\n",
    "* **vaderSentiment:** VADER (Valence Aware Dictionary and sEntiment Reasoner) is an open-source sentiment analysis tool trained on social media\n",
    "https://vadersentiment.readthedocs.io/en/latest/\n",
    "\n",
    "Next, I opened a connection to the local database in which data from posts and comments has been stored.  From that connection, I created dataframes from the tables 'posts' and 'comments'.\n",
    "\n",
    "I then constructed an instance of the SentimentIntensityAnalyzer class from the vaderSentiment library and applied the sentiment analizer to each of the two dataframes. For the sake of learning, I collected the full sentiment profile as well as the compound score.\n",
    "\n",
    "Next, I plotted histograms of both titles and comments. As expected, the sentiment scores for both titles and comments skewed positive.\n",
    "\n",
    "Looking at the top positive and negative results from both tables, one thing became very clear... some words in other contexts might score very negative, but in this context are neutral or positive.  Some examples from post titles:\n",
    "\n",
    "* They KILLED it in ATL!\n",
    "In this context, KILLED means that the band performed extremely well.\n",
    "\n",
    "* Clyde Lawrence singing Don’t Lose Sight while Gracie was out sick\n",
    "Being 'out sick' is merely descriptive, and so should be neutral.\n",
    "\n",
    "* Lawrence discord - chat with fans and Linus Lawrence himself!!!\n",
    "In this context, 'discord' refers to the platform not to contention between parties\n",
    "\n",
    "\n",
    "##### Some ideas about how this data could be used\n",
    "In a data science context, one might use this data to train models specificially on the lexicon of music fans.  They might have jargon that in other contexts are negative, but in this context are positive ( e.g. \"they killed\", \"they slayed\", \"check out this sick cover!\")\n",
    "\n",
    "In a business context, one might use this analysis to assess how the band connects with their audience on an emotional level and that might inform how they promote the band in the future. From the top three scores in the comments section, three audience personas are clearly on display:\n",
    "* Father and daughter:  the band is family-friendly and the songs tend to be happy and upbeat. Families can enjoy Lawrence together and the music brings them closer.\n",
    "* Audiophile: in the second top comment, the audiophile enjoys the variety of mixes that the band produces... the studio productions, the live versions, and the stripped-down acoustic sets\n",
    "* The Lonely Heart:  this type of person finds comfort in the community of kind-hearted fands that Lawrence builds\n",
    "\n",
    "A marketing team could use this information to promote to these different market segments.\n",
    "\n",
    "\n",
    "\n",
    "\n"
   ]
  },
  {
   "cell_type": "markdown",
   "id": "323b8b89",
   "metadata": {},
   "source": []
  }
 ],
 "metadata": {
  "kernelspec": {
   "display_name": "week8",
   "language": "python",
   "name": "python3"
  },
  "language_info": {
   "codemirror_mode": {
    "name": "ipython",
    "version": 3
   },
   "file_extension": ".py",
   "mimetype": "text/x-python",
   "name": "python",
   "nbconvert_exporter": "python",
   "pygments_lexer": "ipython3",
   "version": "3.10.13"
  }
 },
 "nbformat": 4,
 "nbformat_minor": 5
}
